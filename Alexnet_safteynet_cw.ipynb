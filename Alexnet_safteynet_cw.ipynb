{
  "nbformat": 4,
  "nbformat_minor": 0,
  "metadata": {
    "colab": {
      "name": "Alexnet_safteynet_cw.ipynb",
      "provenance": [],
      "collapsed_sections": []
    },
    "kernelspec": {
      "name": "python3",
      "display_name": "Python 3"
    },
    "language_info": {
      "name": "python"
    },
    "accelerator": "GPU"
  },
  "cells": [
    {
      "cell_type": "code",
      "metadata": {
        "colab": {
          "base_uri": "https://localhost:8080/"
        },
        "id": "8swwso5UkLP-",
        "outputId": "f06e5e1b-f99c-4876-940c-0991d9de2d6c"
      },
      "source": [
        "from google.colab import drive\n",
        "drive.mount(\"/content/gdrive\")"
      ],
      "execution_count": null,
      "outputs": [
        {
          "output_type": "stream",
          "name": "stdout",
          "text": [
            "Mounted at /content/gdrive\n"
          ]
        }
      ]
    },
    {
      "cell_type": "code",
      "metadata": {
        "id": "HEUQroMhkUTr"
      },
      "source": [
        "import tensorflow\n",
        "import cv2\n",
        "import numpy as np\n",
        "import matplotlib.pyplot as plt\n",
        "import keras.layers as layers\n",
        "from keras.models import Model\n",
        "from keras.preprocessing import image\n",
        "\n",
        "from tensorflow.keras.regularizers import l2\n",
        "\n",
        "import numpy as np \n",
        "import pandas as pd \n",
        "import matplotlib.pyplot as plt\n",
        "import os\n",
        "import cv2\n",
        "from google.colab.patches import cv2_imshow\n",
        "from tensorflow.keras.layers import Conv2D\n",
        "\n",
        "from keras import backend as K\n",
        "from keras.datasets import mnist\n",
        "from keras.models import Sequential, load_model\n",
        "from keras.layers import Dense, Dropout, Activation, Flatten, BatchNormalization\n",
        "from keras.layers import Convolution2D, MaxPooling2D\n",
        "from keras.utils import np_utils\n",
        "from sklearn.utils import shuffle\n",
        "\n",
        "import numpy as np\n",
        "import os\n",
        "from PIL import Image\n",
        "import scipy.io as sio\n",
        "\n",
        "from keras.initializers import glorot_uniform\n",
        "\n",
        "#from keras.layers.normalization import BatchNormalization\n",
        "#from tensorflow.keras.models import Sequential"
      ],
      "execution_count": null,
      "outputs": []
    },
    {
      "cell_type": "code",
      "metadata": {
        "id": "2mtthd2S5SHK"
      },
      "source": [
        "%matplotlib inline\n",
        "import numpy as np\n",
        "import matplotlib\n",
        "from matplotlib import pyplot as plt\n",
        "from keras.models import Sequential\n",
        "#from keras.optimizers import adam, SGD\n",
        "from keras.callbacks import ModelCheckpoint\n",
        "from keras.constraints import maxnorm\n",
        "from keras.models import load_model\n",
        "from keras.layers import GlobalAveragePooling2D, Lambda, Conv2D, MaxPooling2D, Dropout, Dense, Flatten, Activation\n",
        "from keras.preprocessing.image import ImageDataGenerator"
      ],
      "execution_count": null,
      "outputs": []
    },
    {
      "cell_type": "code",
      "metadata": {
        "id": "otZCDedVkUWT"
      },
      "source": [
        "trainpath=\"/content/gdrive/MyDrive/adv_orig_Dataset/mat_adv_orig_Dataset/mat_orig_cw_adv_Dataset/Training\"\n",
        "testpath=\"/content/gdrive/MyDrive/adv_orig_Dataset/mat_adv_orig_Dataset/mat_orig_cw_adv_Dataset/Testing\""
      ],
      "execution_count": null,
      "outputs": []
    },
    {
      "cell_type": "code",
      "metadata": {
        "id": "plu5LJXUkUZP"
      },
      "source": [
        "class_type= os.listdir(trainpath)"
      ],
      "execution_count": null,
      "outputs": []
    },
    {
      "cell_type": "code",
      "metadata": {
        "colab": {
          "base_uri": "https://localhost:8080/"
        },
        "id": "b5Kcu3GlkUcO",
        "outputId": "6b2ee268-d1f8-487c-8a22-d35f25f7919c"
      },
      "source": [
        "class_type"
      ],
      "execution_count": null,
      "outputs": [
        {
          "output_type": "execute_result",
          "data": {
            "text/plain": [
              "['orig', 'adv']"
            ]
          },
          "metadata": {},
          "execution_count": 6
        }
      ]
    },
    {
      "cell_type": "code",
      "metadata": {
        "id": "UbBPi4GmkUe1"
      },
      "source": [
        "def load_dataset(path,class_type):\n",
        "  labels = []\n",
        "  mats = []\n",
        "  for item in class_type:\n",
        "    filenames = os.listdir(path + '/' + item)\n",
        "    for f in filenames:\n",
        "      mat_contents = sio.loadmat(path + '/' + item +'/' + f)\n",
        "      if 'orig' in mat_contents:\n",
        "        img=np.array((mat_contents['orig']*255).astype('uint8'))\n",
        "        labels.append(0)\n",
        "      else:\n",
        "        img=np.array((mat_contents['adv']*255).astype('uint8'))\n",
        "        labels.append(1)\n",
        "      resized_image = cv2.resize(img, (227, 227))   \n",
        "      mats.append(np.array(resized_image/255))  \n",
        "\n",
        "  mats = np.array(mats)\n",
        "  labels = np.array(labels) \n",
        "  mats,labels = shuffle(mats, labels, random_state = 45)\n",
        "  return mats,labels     \n",
        "\n"
      ],
      "execution_count": null,
      "outputs": []
    },
    {
      "cell_type": "code",
      "metadata": {
        "id": "C3fH0DpKkUg-"
      },
      "source": [
        "train_x,train_y=load_dataset(trainpath,class_type)"
      ],
      "execution_count": null,
      "outputs": []
    },
    {
      "cell_type": "code",
      "metadata": {
        "id": "ZO-FuPgAkiRZ"
      },
      "source": [
        "test_x,test_y=load_dataset(testpath,class_type)"
      ],
      "execution_count": null,
      "outputs": []
    },
    {
      "cell_type": "code",
      "metadata": {
        "id": "Q8OlBGUOkiTr",
        "colab": {
          "base_uri": "https://localhost:8080/"
        },
        "outputId": "02c601e5-98c9-4d00-a8c6-fe4cb7b6fdeb"
      },
      "source": [
        "train_y"
      ],
      "execution_count": null,
      "outputs": [
        {
          "output_type": "execute_result",
          "data": {
            "text/plain": [
              "array([1, 0, 1, ..., 0, 0, 1])"
            ]
          },
          "metadata": {},
          "execution_count": 10
        }
      ]
    },
    {
      "cell_type": "code",
      "metadata": {
        "id": "S9E34LKrkiWP"
      },
      "source": [
        "img_rows = 224\n",
        "img_cols = 224\n",
        "img_chan = 3\n",
        "input_shape=(img_rows, img_cols, img_chan)"
      ],
      "execution_count": null,
      "outputs": []
    },
    {
      "cell_type": "code",
      "metadata": {
        "id": "4Yp9noS3kUjI",
        "colab": {
          "base_uri": "https://localhost:8080/"
        },
        "outputId": "0d53af4a-c102-4e41-c965-cc1bf3a0edc3"
      },
      "source": [
        "import tensorflow.keras\n",
        "from tensorflow.keras.models import Sequential\n",
        "from tensorflow.keras.layers import Dense, Activation, Dropout, Flatten,\\\n",
        " Conv2D, MaxPooling2D,BatchNormalization\n",
        "\n",
        "\n",
        "\n",
        "\n",
        "# (3) Create a sequential model\n",
        "model = Sequential()\n",
        "\n",
        "# 1st Convolutional Layer\n",
        "model.add(Conv2D(filters=96, input_shape=(227,227,3), kernel_size=(11,11),\\\n",
        " strides=(4,4), padding='same'))\n",
        "model.add(Activation('relu'))\n",
        "# Pooling \n",
        "model.add(MaxPooling2D(pool_size=(3,3), strides=(2,2), padding='same'))\n",
        "# Batch Normalisation before passing it to the next layer\n",
        "model.add(BatchNormalization())\n",
        "\n",
        "# 2nd Convolutional Layer\n",
        "model.add(Conv2D(filters=256, kernel_size=(5,5), strides=(1,1), padding='same'))\n",
        "model.add(Activation('relu'))\n",
        "# Pooling\n",
        "model.add(MaxPooling2D(pool_size=(3,3), strides=(2,2), padding='same'))\n",
        "# Batch Normalisation\n",
        "model.add(BatchNormalization())\n",
        "\n",
        "# 3rd Convolutional Layer\n",
        "model.add(Conv2D(filters=384, kernel_size=(3,3), strides=(1,1), padding='valid'))\n",
        "model.add(Activation('relu'))\n",
        "# Batch Normalisation\n",
        "model.add(BatchNormalization())\n",
        "\n",
        "# 4th Convolutional Layer\n",
        "model.add(Conv2D(filters=384, kernel_size=(3,3), strides=(1,1), padding='same'))\n",
        "model.add(Activation('relu'))\n",
        "# Batch Normalisation\n",
        "model.add(BatchNormalization())\n",
        "\n",
        "# 5th Convolutional Layer\n",
        "model.add(Conv2D(filters=256, kernel_size=(3,3), strides=(1,1), padding='same'))\n",
        "model.add(Activation('relu'))\n",
        "# Pooling\n",
        "model.add(MaxPooling2D(pool_size=(3,3), strides=(2,2), padding='same'))\n",
        "# Batch Normalisation\n",
        "model.add(BatchNormalization())\n",
        "\n",
        "# Passing it to a dense layer\n",
        "model.add(Flatten())\n",
        "# 1st Dense Layer\n",
        "model.add(Dense(4096, input_shape=(227*227*3,)))\n",
        "model.add(Activation('relu'))\n",
        "# Add Dropout to prevent overfitting\n",
        "model.add(Dropout(0.2))\n",
        "# Batch Normalisation\n",
        "model.add(BatchNormalization())\n",
        "\n",
        "# 2nd Dense Layer\n",
        "model.add(Dense(4096))\n",
        "model.add(Activation('relu'))\n",
        "# Add Dropout\n",
        "model.add(Dropout(0.2))\n",
        "# Batch Normalisation\n",
        "model.add(BatchNormalization())\n",
        "\n",
        "# 3rd Dense Layer\n",
        "model.add(Dense(1000))\n",
        "model.add(Activation('relu'))\n",
        "# Add Dropout\n",
        "model.add(Dropout(0.2))\n",
        "# Batch Normalisation\n",
        "model.add(BatchNormalization())\n",
        "\n",
        "# Output Layer\n",
        "model.add(Dense(1))\n",
        "model.add(Activation('sigmoid'))\n",
        "\n",
        "model.summary()"
      ],
      "execution_count": null,
      "outputs": [
        {
          "output_type": "stream",
          "name": "stdout",
          "text": [
            "Model: \"sequential\"\n",
            "_________________________________________________________________\n",
            "Layer (type)                 Output Shape              Param #   \n",
            "=================================================================\n",
            "conv2d (Conv2D)              (None, 57, 57, 96)        34944     \n",
            "_________________________________________________________________\n",
            "activation (Activation)      (None, 57, 57, 96)        0         \n",
            "_________________________________________________________________\n",
            "max_pooling2d (MaxPooling2D) (None, 29, 29, 96)        0         \n",
            "_________________________________________________________________\n",
            "batch_normalization (BatchNo (None, 29, 29, 96)        384       \n",
            "_________________________________________________________________\n",
            "conv2d_1 (Conv2D)            (None, 29, 29, 256)       614656    \n",
            "_________________________________________________________________\n",
            "activation_1 (Activation)    (None, 29, 29, 256)       0         \n",
            "_________________________________________________________________\n",
            "max_pooling2d_1 (MaxPooling2 (None, 15, 15, 256)       0         \n",
            "_________________________________________________________________\n",
            "batch_normalization_1 (Batch (None, 15, 15, 256)       1024      \n",
            "_________________________________________________________________\n",
            "conv2d_2 (Conv2D)            (None, 13, 13, 384)       885120    \n",
            "_________________________________________________________________\n",
            "activation_2 (Activation)    (None, 13, 13, 384)       0         \n",
            "_________________________________________________________________\n",
            "batch_normalization_2 (Batch (None, 13, 13, 384)       1536      \n",
            "_________________________________________________________________\n",
            "conv2d_3 (Conv2D)            (None, 13, 13, 384)       1327488   \n",
            "_________________________________________________________________\n",
            "activation_3 (Activation)    (None, 13, 13, 384)       0         \n",
            "_________________________________________________________________\n",
            "batch_normalization_3 (Batch (None, 13, 13, 384)       1536      \n",
            "_________________________________________________________________\n",
            "conv2d_4 (Conv2D)            (None, 13, 13, 256)       884992    \n",
            "_________________________________________________________________\n",
            "activation_4 (Activation)    (None, 13, 13, 256)       0         \n",
            "_________________________________________________________________\n",
            "max_pooling2d_2 (MaxPooling2 (None, 7, 7, 256)         0         \n",
            "_________________________________________________________________\n",
            "batch_normalization_4 (Batch (None, 7, 7, 256)         1024      \n",
            "_________________________________________________________________\n",
            "flatten (Flatten)            (None, 12544)             0         \n",
            "_________________________________________________________________\n",
            "dense (Dense)                (None, 4096)              51384320  \n",
            "_________________________________________________________________\n",
            "activation_5 (Activation)    (None, 4096)              0         \n",
            "_________________________________________________________________\n",
            "dropout (Dropout)            (None, 4096)              0         \n",
            "_________________________________________________________________\n",
            "batch_normalization_5 (Batch (None, 4096)              16384     \n",
            "_________________________________________________________________\n",
            "dense_1 (Dense)              (None, 4096)              16781312  \n",
            "_________________________________________________________________\n",
            "activation_6 (Activation)    (None, 4096)              0         \n",
            "_________________________________________________________________\n",
            "dropout_1 (Dropout)          (None, 4096)              0         \n",
            "_________________________________________________________________\n",
            "batch_normalization_6 (Batch (None, 4096)              16384     \n",
            "_________________________________________________________________\n",
            "dense_2 (Dense)              (None, 1000)              4097000   \n",
            "_________________________________________________________________\n",
            "activation_7 (Activation)    (None, 1000)              0         \n",
            "_________________________________________________________________\n",
            "dropout_2 (Dropout)          (None, 1000)              0         \n",
            "_________________________________________________________________\n",
            "batch_normalization_7 (Batch (None, 1000)              4000      \n",
            "_________________________________________________________________\n",
            "dense_3 (Dense)              (None, 1)                 1001      \n",
            "_________________________________________________________________\n",
            "activation_8 (Activation)    (None, 1)                 0         \n",
            "=================================================================\n",
            "Total params: 76,053,105\n",
            "Trainable params: 76,031,969\n",
            "Non-trainable params: 21,136\n",
            "_________________________________________________________________\n"
          ]
        }
      ]
    },
    {
      "cell_type": "code",
      "metadata": {
        "id": "v18Rqihx45Rp"
      },
      "source": [
        "datagen = ImageDataGenerator(\n",
        "    featurewise_center=False,  # set input mean to 0 over the dataset\n",
        "    samplewise_center=False,  # set each sample mean to 0\n",
        "    featurewise_std_normalization=False,  # divide inputs by std of the dataset\n",
        "    samplewise_std_normalization=False,  # divide each input by its std\n",
        "    zca_whitening=False,  # apply ZCA whitening\n",
        "    rotation_range=45,  # randomly rotate images in the range (degrees, 0 to 180)\n",
        "    width_shift_range=0.2,  # randomly shift images horizontally (fraction of total width)\n",
        "    height_shift_range=0.2,  # randomly shift images vertically (fraction of total height)\n",
        "    horizontal_flip=True,  # randomly flip images\n",
        "    vertical_flip=False)  # randomly flip images\n",
        "\n",
        "datagen.fit(train_x)"
      ],
      "execution_count": null,
      "outputs": []
    },
    {
      "cell_type": "code",
      "metadata": {
        "id": "uoD1oM3G2z89"
      },
      "source": [
        "model.compile(optimizer = 'adam', loss = 'binary_crossentropy', metrics = ['accuracy'])\n",
        "#model.fit(train_x, train_y, batch_size=32,epochs=400, validation_data=(test_x,test_y),shuffle=True)"
      ],
      "execution_count": null,
      "outputs": []
    },
    {
      "cell_type": "code",
      "metadata": {
        "colab": {
          "base_uri": "https://localhost:8080/"
        },
        "id": "lpcC4GAS5HnY",
        "outputId": "e2f3eda6-4dca-4671-c5bb-a9dfb06b3217"
      },
      "source": [
        "augmented_model_details = model.fit_generator(datagen.flow(train_x, train_y, batch_size = 32),\n",
        "                     # number of samples per gradient update\n",
        "                    epochs = 200, # number of iterations\n",
        "                    validation_data=(test_x,test_y),\n",
        "                    verbose=1)"
      ],
      "execution_count": null,
      "outputs": [
        {
          "output_type": "stream",
          "name": "stderr",
          "text": [
            "/usr/local/lib/python3.7/dist-packages/keras/engine/training.py:1972: UserWarning: `Model.fit_generator` is deprecated and will be removed in a future version. Please use `Model.fit`, which supports generators.\n",
            "  warnings.warn('`Model.fit_generator` is deprecated and '\n"
          ]
        },
        {
          "output_type": "stream",
          "name": "stdout",
          "text": [
            "Epoch 1/200\n",
            "44/44 [==============================] - 20s 417ms/step - loss: 0.8410 - accuracy: 0.4946 - val_loss: 1.1307 - val_accuracy: 0.2382\n",
            "Epoch 2/200\n",
            "44/44 [==============================] - 18s 399ms/step - loss: 0.7136 - accuracy: 0.5018 - val_loss: 0.8500 - val_accuracy: 0.3936\n",
            "Epoch 3/200\n",
            "44/44 [==============================] - 18s 398ms/step - loss: 0.7099 - accuracy: 0.4837 - val_loss: 1.0234 - val_accuracy: 0.1943\n",
            "Epoch 4/200\n",
            "44/44 [==============================] - 18s 399ms/step - loss: 0.7012 - accuracy: 0.4938 - val_loss: 0.8181 - val_accuracy: 0.3530\n",
            "Epoch 5/200\n",
            "44/44 [==============================] - 18s 399ms/step - loss: 0.7026 - accuracy: 0.5011 - val_loss: 0.7565 - val_accuracy: 0.4020\n",
            "Epoch 6/200\n",
            "44/44 [==============================] - 18s 401ms/step - loss: 0.6978 - accuracy: 0.5250 - val_loss: 0.8827 - val_accuracy: 0.2787\n",
            "Epoch 7/200\n",
            "44/44 [==============================] - 18s 406ms/step - loss: 0.7050 - accuracy: 0.4946 - val_loss: 0.7165 - val_accuracy: 0.4595\n",
            "Epoch 8/200\n",
            "44/44 [==============================] - 18s 401ms/step - loss: 0.7008 - accuracy: 0.5076 - val_loss: 0.7474 - val_accuracy: 0.4274\n",
            "Epoch 9/200\n",
            "44/44 [==============================] - 17s 394ms/step - loss: 0.7043 - accuracy: 0.5018 - val_loss: 0.7507 - val_accuracy: 0.3716\n",
            "Epoch 10/200\n",
            "44/44 [==============================] - 17s 395ms/step - loss: 0.6933 - accuracy: 0.5083 - val_loss: 0.8090 - val_accuracy: 0.3311\n",
            "Epoch 11/200\n",
            "44/44 [==============================] - 17s 393ms/step - loss: 0.7042 - accuracy: 0.5170 - val_loss: 0.6882 - val_accuracy: 0.5895\n",
            "Epoch 12/200\n",
            "44/44 [==============================] - 17s 393ms/step - loss: 0.7008 - accuracy: 0.5018 - val_loss: 0.7675 - val_accuracy: 0.3919\n",
            "Epoch 13/200\n",
            "44/44 [==============================] - 17s 394ms/step - loss: 0.7040 - accuracy: 0.5069 - val_loss: 0.7777 - val_accuracy: 0.4595\n",
            "Epoch 14/200\n",
            "44/44 [==============================] - 17s 394ms/step - loss: 0.6951 - accuracy: 0.5265 - val_loss: 0.7360 - val_accuracy: 0.3902\n",
            "Epoch 15/200\n",
            "44/44 [==============================] - 17s 395ms/step - loss: 0.6959 - accuracy: 0.5337 - val_loss: 0.9380 - val_accuracy: 0.2247\n",
            "Epoch 16/200\n",
            "44/44 [==============================] - 17s 395ms/step - loss: 0.7010 - accuracy: 0.5192 - val_loss: 0.7352 - val_accuracy: 0.3784\n",
            "Epoch 17/200\n",
            "44/44 [==============================] - 18s 400ms/step - loss: 0.6995 - accuracy: 0.4837 - val_loss: 0.7753 - val_accuracy: 0.3041\n",
            "Epoch 18/200\n",
            "44/44 [==============================] - 18s 397ms/step - loss: 0.6983 - accuracy: 0.5025 - val_loss: 0.7207 - val_accuracy: 0.4105\n",
            "Epoch 19/200\n",
            "44/44 [==============================] - 18s 396ms/step - loss: 0.6961 - accuracy: 0.5163 - val_loss: 0.7690 - val_accuracy: 0.3598\n",
            "Epoch 20/200\n",
            "44/44 [==============================] - 18s 412ms/step - loss: 0.6945 - accuracy: 0.5199 - val_loss: 0.7600 - val_accuracy: 0.2990\n",
            "Epoch 21/200\n",
            "44/44 [==============================] - 18s 396ms/step - loss: 0.7008 - accuracy: 0.5076 - val_loss: 0.7525 - val_accuracy: 0.3480\n",
            "Epoch 22/200\n",
            "44/44 [==============================] - 17s 392ms/step - loss: 0.6944 - accuracy: 0.4989 - val_loss: 0.7230 - val_accuracy: 0.4054\n",
            "Epoch 23/200\n",
            "44/44 [==============================] - 17s 393ms/step - loss: 0.7001 - accuracy: 0.5098 - val_loss: 0.7819 - val_accuracy: 0.3176\n",
            "Epoch 24/200\n",
            "44/44 [==============================] - 17s 395ms/step - loss: 0.6918 - accuracy: 0.5323 - val_loss: 0.8190 - val_accuracy: 0.3176\n",
            "Epoch 25/200\n",
            "44/44 [==============================] - 17s 395ms/step - loss: 0.6990 - accuracy: 0.4982 - val_loss: 0.7015 - val_accuracy: 0.4747\n",
            "Epoch 26/200\n",
            "44/44 [==============================] - 17s 393ms/step - loss: 0.6978 - accuracy: 0.5091 - val_loss: 0.7645 - val_accuracy: 0.3091\n",
            "Epoch 27/200\n",
            "44/44 [==============================] - 18s 399ms/step - loss: 0.7031 - accuracy: 0.4938 - val_loss: 0.7627 - val_accuracy: 0.3311\n",
            "Epoch 28/200\n",
            "44/44 [==============================] - 18s 398ms/step - loss: 0.6977 - accuracy: 0.4815 - val_loss: 0.7435 - val_accuracy: 0.3682\n",
            "Epoch 29/200\n",
            "44/44 [==============================] - 18s 397ms/step - loss: 0.6985 - accuracy: 0.5221 - val_loss: 0.7514 - val_accuracy: 0.3632\n",
            "Epoch 30/200\n",
            "44/44 [==============================] - 18s 402ms/step - loss: 0.6969 - accuracy: 0.5105 - val_loss: 0.7083 - val_accuracy: 0.4375\n",
            "Epoch 31/200\n",
            "44/44 [==============================] - 18s 401ms/step - loss: 0.6962 - accuracy: 0.5221 - val_loss: 0.7262 - val_accuracy: 0.4409\n",
            "Epoch 32/200\n",
            "44/44 [==============================] - 18s 401ms/step - loss: 0.7015 - accuracy: 0.5149 - val_loss: 0.7256 - val_accuracy: 0.5405\n",
            "Epoch 33/200\n",
            "44/44 [==============================] - 18s 400ms/step - loss: 0.7041 - accuracy: 0.4895 - val_loss: 0.7253 - val_accuracy: 0.4341\n",
            "Epoch 34/200\n",
            "44/44 [==============================] - 18s 400ms/step - loss: 0.6964 - accuracy: 0.5047 - val_loss: 0.6977 - val_accuracy: 0.4949\n",
            "Epoch 35/200\n",
            "44/44 [==============================] - 18s 403ms/step - loss: 0.6984 - accuracy: 0.4946 - val_loss: 0.7384 - val_accuracy: 0.3480\n",
            "Epoch 36/200\n",
            "44/44 [==============================] - 17s 388ms/step - loss: 0.6972 - accuracy: 0.5083 - val_loss: 0.6828 - val_accuracy: 0.5709\n",
            "Epoch 37/200\n",
            "44/44 [==============================] - 17s 390ms/step - loss: 0.7072 - accuracy: 0.4764 - val_loss: 0.7303 - val_accuracy: 0.3581\n",
            "Epoch 38/200\n",
            "44/44 [==============================] - 18s 399ms/step - loss: 0.6972 - accuracy: 0.5047 - val_loss: 0.7026 - val_accuracy: 0.4949\n",
            "Epoch 39/200\n",
            "44/44 [==============================] - 17s 395ms/step - loss: 0.6933 - accuracy: 0.5178 - val_loss: 0.7231 - val_accuracy: 0.4037\n",
            "Epoch 40/200\n",
            "44/44 [==============================] - 17s 393ms/step - loss: 0.6973 - accuracy: 0.5112 - val_loss: 0.7907 - val_accuracy: 0.2584\n",
            "Epoch 41/200\n",
            "44/44 [==============================] - 18s 399ms/step - loss: 0.6972 - accuracy: 0.5308 - val_loss: 0.6957 - val_accuracy: 0.5101\n",
            "Epoch 42/200\n",
            "44/44 [==============================] - 17s 394ms/step - loss: 0.7000 - accuracy: 0.4946 - val_loss: 0.7963 - val_accuracy: 0.2551\n",
            "Epoch 43/200\n",
            "44/44 [==============================] - 17s 391ms/step - loss: 0.6943 - accuracy: 0.5228 - val_loss: 0.7693 - val_accuracy: 0.2922\n",
            "Epoch 44/200\n",
            "44/44 [==============================] - 17s 393ms/step - loss: 0.6985 - accuracy: 0.5011 - val_loss: 0.7425 - val_accuracy: 0.3598\n",
            "Epoch 45/200\n",
            "44/44 [==============================] - 17s 390ms/step - loss: 0.6969 - accuracy: 0.5192 - val_loss: 0.7584 - val_accuracy: 0.3007\n",
            "Epoch 46/200\n",
            "44/44 [==============================] - 17s 389ms/step - loss: 0.6959 - accuracy: 0.5112 - val_loss: 0.7291 - val_accuracy: 0.3530\n",
            "Epoch 47/200\n",
            "44/44 [==============================] - 17s 394ms/step - loss: 0.6982 - accuracy: 0.5062 - val_loss: 0.7319 - val_accuracy: 0.3547\n",
            "Epoch 48/200\n",
            "44/44 [==============================] - 18s 403ms/step - loss: 0.6905 - accuracy: 0.5214 - val_loss: 0.7578 - val_accuracy: 0.3226\n",
            "Epoch 49/200\n",
            "44/44 [==============================] - 18s 406ms/step - loss: 0.6978 - accuracy: 0.5214 - val_loss: 0.7408 - val_accuracy: 0.3429\n",
            "Epoch 50/200\n",
            "44/44 [==============================] - 18s 400ms/step - loss: 0.6955 - accuracy: 0.5286 - val_loss: 0.7404 - val_accuracy: 0.3091\n",
            "Epoch 51/200\n",
            "44/44 [==============================] - 18s 401ms/step - loss: 0.6978 - accuracy: 0.5047 - val_loss: 0.7274 - val_accuracy: 0.3649\n",
            "Epoch 52/200\n",
            "44/44 [==============================] - 18s 400ms/step - loss: 0.6937 - accuracy: 0.5221 - val_loss: 0.7303 - val_accuracy: 0.3666\n",
            "Epoch 53/200\n",
            "44/44 [==============================] - 18s 397ms/step - loss: 0.6945 - accuracy: 0.5098 - val_loss: 0.7515 - val_accuracy: 0.2889\n",
            "Epoch 54/200\n",
            "44/44 [==============================] - 17s 395ms/step - loss: 0.6948 - accuracy: 0.5236 - val_loss: 0.7342 - val_accuracy: 0.3581\n",
            "Epoch 55/200\n",
            "44/44 [==============================] - 18s 398ms/step - loss: 0.6936 - accuracy: 0.5178 - val_loss: 0.7171 - val_accuracy: 0.4544\n",
            "Epoch 56/200\n",
            "44/44 [==============================] - 17s 396ms/step - loss: 0.6968 - accuracy: 0.5047 - val_loss: 0.7445 - val_accuracy: 0.2568\n",
            "Epoch 57/200\n",
            "44/44 [==============================] - 17s 394ms/step - loss: 0.6965 - accuracy: 0.5352 - val_loss: 0.7558 - val_accuracy: 0.2534\n",
            "Epoch 58/200\n",
            "44/44 [==============================] - 17s 395ms/step - loss: 0.6887 - accuracy: 0.5388 - val_loss: 0.7732 - val_accuracy: 0.2432\n",
            "Epoch 59/200\n",
            "16/44 [=========>....................] - ETA: 10s - loss: 0.6975 - accuracy: 0.5391"
          ]
        }
      ]
    },
    {
      "cell_type": "code",
      "metadata": {
        "id": "x_nuuvNX20B2"
      },
      "source": [
        ""
      ],
      "execution_count": null,
      "outputs": []
    },
    {
      "cell_type": "code",
      "metadata": {
        "id": "o01XN0vEmoAC"
      },
      "source": [
        "loss, accuracy = model.evaluate(test_x, test_y)\n",
        "print('Loss = ' + str(loss))\n",
        "print('Test Accuracy = ' + str(accuracy))"
      ],
      "execution_count": null,
      "outputs": []
    }
  ]
}