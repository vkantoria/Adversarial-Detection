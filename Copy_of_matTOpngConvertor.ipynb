{
  "nbformat": 4,
  "nbformat_minor": 0,
  "metadata": {
    "colab": {
      "name": "Copy of matTOpngConvertor.ipynb",
      "provenance": []
    },
    "kernelspec": {
      "name": "python3",
      "display_name": "Python 3"
    },
    "language_info": {
      "name": "python"
    }
  },
  "cells": [
    {
      "cell_type": "code",
      "metadata": {
        "colab": {
          "base_uri": "https://localhost:8080/"
        },
        "id": "T8G_owQ5ln4B",
        "outputId": "86f41fcc-02e1-4369-a9ea-13cf698d263a"
      },
      "source": [
        "from google.colab import drive\n",
        "drive.mount(\"/content/gdrive\")"
      ],
      "execution_count": null,
      "outputs": [
        {
          "output_type": "stream",
          "name": "stdout",
          "text": [
            "Mounted at /content/gdrive\n"
          ]
        }
      ]
    },
    {
      "cell_type": "code",
      "metadata": {
        "id": "D4toFlqkYAnA"
      },
      "source": [
        "import cv2"
      ],
      "execution_count": null,
      "outputs": []
    },
    {
      "cell_type": "code",
      "metadata": {
        "id": "M2y4MVRPmO3K"
      },
      "source": [
        "filepath_mat=\"/content/gdrive/MyDrive/Adv-original/test_set/sample_0_African_hunting_dog_orig.mat\"\n",
        "filepath_png=\"/content/gdrive/MyDrive/Adv-original/dataset/Dataset/Training/orig/sample_0_African_hunting_dog_orig..png\"\n",
        "outpath=\"/content/gdrive/MyDrive/Adv-original/dataset/test_set\""
      ],
      "execution_count": null,
      "outputs": []
    },
    {
      "cell_type": "code",
      "metadata": {
        "id": "Kn4k8YWTXJqr"
      },
      "source": [
        " mat_contents = sio.loadmat(filepath_mat)"
      ],
      "execution_count": null,
      "outputs": []
    },
    {
      "cell_type": "code",
      "metadata": {
        "id": "sJLclsQqXJuV"
      },
      "source": [
        "img=np.array((mat_contents['orig']*255).astype('uint8'))"
      ],
      "execution_count": null,
      "outputs": []
    },
    {
      "cell_type": "code",
      "metadata": {
        "colab": {
          "base_uri": "https://localhost:8080/"
        },
        "id": "JWmulCs3XqHP",
        "outputId": "2d1f3303-c5f4-4e0a-a6dd-81898f69a6a9"
      },
      "source": [
        "img"
      ],
      "execution_count": null,
      "outputs": [
        {
          "output_type": "execute_result",
          "data": {
            "text/plain": [
              "array([[[210, 173, 131],\n",
              "        [209, 172, 130],\n",
              "        [210, 171, 130],\n",
              "        ...,\n",
              "        [226, 196, 162],\n",
              "        [224, 194, 158],\n",
              "        [225, 195, 159]],\n",
              "\n",
              "       [[210, 173, 131],\n",
              "        [209, 172, 130],\n",
              "        [209, 170, 129],\n",
              "        ...,\n",
              "        [228, 198, 164],\n",
              "        [227, 197, 161],\n",
              "        [226, 196, 160]],\n",
              "\n",
              "       [[211, 174, 132],\n",
              "        [207, 170, 126],\n",
              "        [209, 170, 127],\n",
              "        ...,\n",
              "        [225, 195, 161],\n",
              "        [224, 194, 158],\n",
              "        [223, 193, 157]],\n",
              "\n",
              "       ...,\n",
              "\n",
              "       [[232, 214, 190],\n",
              "        [224, 207, 187],\n",
              "        [224, 202, 181],\n",
              "        ...,\n",
              "        [193, 129,  81],\n",
              "        [164, 135,  91],\n",
              "        [172, 151,  86]],\n",
              "\n",
              "       [[196, 204, 121],\n",
              "        [174, 152, 141],\n",
              "        [191, 171, 164],\n",
              "        ...,\n",
              "        [221, 207, 196],\n",
              "        [208, 188, 155],\n",
              "        [163, 146,  94]],\n",
              "\n",
              "       [[121, 130,  37],\n",
              "        [255, 244, 231],\n",
              "        [164, 145, 139],\n",
              "        ...,\n",
              "        [233, 196, 177],\n",
              "        [206, 174, 149],\n",
              "        [177, 158, 118]]], dtype=uint8)"
            ]
          },
          "metadata": {},
          "execution_count": 9
        }
      ]
    },
    {
      "cell_type": "code",
      "metadata": {
        "id": "RTX2E9wMX2k9"
      },
      "source": [
        "png = cv2.imread(filepath_png)"
      ],
      "execution_count": null,
      "outputs": []
    },
    {
      "cell_type": "code",
      "metadata": {
        "colab": {
          "base_uri": "https://localhost:8080/"
        },
        "id": "5o7dhldzYFV9",
        "outputId": "f920a4f9-f0d2-4c94-9b25-812c62c508ee"
      },
      "source": [
        "png"
      ],
      "execution_count": null,
      "outputs": [
        {
          "output_type": "execute_result",
          "data": {
            "text/plain": [
              "array([[[131, 173, 210],\n",
              "        [130, 172, 209],\n",
              "        [130, 171, 210],\n",
              "        ...,\n",
              "        [162, 196, 226],\n",
              "        [158, 194, 224],\n",
              "        [159, 195, 225]],\n",
              "\n",
              "       [[131, 173, 210],\n",
              "        [130, 172, 209],\n",
              "        [129, 170, 209],\n",
              "        ...,\n",
              "        [164, 198, 228],\n",
              "        [161, 197, 227],\n",
              "        [160, 196, 226]],\n",
              "\n",
              "       [[132, 174, 211],\n",
              "        [126, 170, 207],\n",
              "        [127, 170, 209],\n",
              "        ...,\n",
              "        [161, 195, 225],\n",
              "        [158, 194, 224],\n",
              "        [157, 193, 223]],\n",
              "\n",
              "       ...,\n",
              "\n",
              "       [[190, 214, 232],\n",
              "        [187, 207, 224],\n",
              "        [181, 202, 224],\n",
              "        ...,\n",
              "        [ 81, 129, 193],\n",
              "        [ 91, 135, 164],\n",
              "        [ 86, 151, 172]],\n",
              "\n",
              "       [[121, 204, 196],\n",
              "        [141, 152, 174],\n",
              "        [164, 171, 191],\n",
              "        ...,\n",
              "        [196, 207, 221],\n",
              "        [155, 188, 208],\n",
              "        [ 94, 146, 163]],\n",
              "\n",
              "       [[ 37, 130, 121],\n",
              "        [231, 244, 255],\n",
              "        [139, 145, 164],\n",
              "        ...,\n",
              "        [177, 196, 233],\n",
              "        [149, 174, 206],\n",
              "        [118, 158, 177]]], dtype=uint8)"
            ]
          },
          "metadata": {},
          "execution_count": 14
        }
      ]
    },
    {
      "cell_type": "code",
      "metadata": {
        "colab": {
          "base_uri": "https://localhost:8080/"
        },
        "id": "-cIPUcqpYLpN",
        "outputId": "4099d663-0785-46eb-fe2d-d862cf4fbce5"
      },
      "source": [
        "img - png"
      ],
      "execution_count": null,
      "outputs": [
        {
          "output_type": "execute_result",
          "data": {
            "text/plain": [
              "array([[[ 79,   0, 177],\n",
              "        [ 79,   0, 177],\n",
              "        [ 80,   0, 176],\n",
              "        ...,\n",
              "        [ 64,   0, 192],\n",
              "        [ 66,   0, 190],\n",
              "        [ 66,   0, 190]],\n",
              "\n",
              "       [[ 79,   0, 177],\n",
              "        [ 79,   0, 177],\n",
              "        [ 80,   0, 176],\n",
              "        ...,\n",
              "        [ 64,   0, 192],\n",
              "        [ 66,   0, 190],\n",
              "        [ 66,   0, 190]],\n",
              "\n",
              "       [[ 79,   0, 177],\n",
              "        [ 81,   0, 175],\n",
              "        [ 82,   0, 174],\n",
              "        ...,\n",
              "        [ 64,   0, 192],\n",
              "        [ 66,   0, 190],\n",
              "        [ 66,   0, 190]],\n",
              "\n",
              "       ...,\n",
              "\n",
              "       [[ 42,   0, 214],\n",
              "        [ 37,   0, 219],\n",
              "        [ 43,   0, 213],\n",
              "        ...,\n",
              "        [112,   0, 144],\n",
              "        [ 73,   0, 183],\n",
              "        [ 86,   0, 170]],\n",
              "\n",
              "       [[ 75,   0, 181],\n",
              "        [ 33,   0, 223],\n",
              "        [ 27,   0, 229],\n",
              "        ...,\n",
              "        [ 25,   0, 231],\n",
              "        [ 53,   0, 203],\n",
              "        [ 69,   0, 187]],\n",
              "\n",
              "       [[ 84,   0, 172],\n",
              "        [ 24,   0, 232],\n",
              "        [ 25,   0, 231],\n",
              "        ...,\n",
              "        [ 56,   0, 200],\n",
              "        [ 57,   0, 199],\n",
              "        [ 59,   0, 197]]], dtype=uint8)"
            ]
          },
          "metadata": {},
          "execution_count": 15
        }
      ]
    },
    {
      "cell_type": "code",
      "metadata": {
        "id": "HbfpDEHlm1sS"
      },
      "source": [
        "import numpy as np\n",
        "import os\n",
        "from PIL import Image\n",
        "import scipy.io as sio"
      ],
      "execution_count": null,
      "outputs": []
    },
    {
      "cell_type": "code",
      "metadata": {
        "colab": {
          "base_uri": "https://localhost:8080/",
          "height": 363
        },
        "id": "HTPOjcntm8PV",
        "outputId": "d24685fc-6246-4878-beb4-cc599eae3670"
      },
      "source": [
        "i=0\n",
        "for filename in os.listdir(filepath):\n",
        "  mat_contents = sio.loadmat(filepath+'/'+filename)\n",
        "  if 'orig' in mat_contents:\n",
        "    img=np.array((mat_contents['orig']*255).astype('uint8'))\n",
        "  else:\n",
        "    img=np.array((mat_contents['adv']*255).astype('uint8'))\n",
        "  im = Image.fromarray(img)\n",
        "  im.save(outpath+'/'+filename[:-3]+\".png\")\n",
        "  i=i+1\n",
        "print(i)"
      ],
      "execution_count": null,
      "outputs": [
        {
          "output_type": "error",
          "ename": "FileNotFoundError",
          "evalue": "ignored",
          "traceback": [
            "\u001b[0;31m---------------------------------------------------------------------------\u001b[0m",
            "\u001b[0;31mFileNotFoundError\u001b[0m                         Traceback (most recent call last)",
            "\u001b[0;32m<ipython-input-4-7872ab1e5748>\u001b[0m in \u001b[0;36m<module>\u001b[0;34m()\u001b[0m\n\u001b[1;32m      7\u001b[0m     \u001b[0mimg\u001b[0m\u001b[0;34m=\u001b[0m\u001b[0mnp\u001b[0m\u001b[0;34m.\u001b[0m\u001b[0marray\u001b[0m\u001b[0;34m(\u001b[0m\u001b[0;34m(\u001b[0m\u001b[0mmat_contents\u001b[0m\u001b[0;34m[\u001b[0m\u001b[0;34m'adv'\u001b[0m\u001b[0;34m]\u001b[0m\u001b[0;34m*\u001b[0m\u001b[0;36m255\u001b[0m\u001b[0;34m)\u001b[0m\u001b[0;34m.\u001b[0m\u001b[0mastype\u001b[0m\u001b[0;34m(\u001b[0m\u001b[0;34m'uint8'\u001b[0m\u001b[0;34m)\u001b[0m\u001b[0;34m)\u001b[0m\u001b[0;34m\u001b[0m\u001b[0;34m\u001b[0m\u001b[0m\n\u001b[1;32m      8\u001b[0m   \u001b[0mim\u001b[0m \u001b[0;34m=\u001b[0m \u001b[0mImage\u001b[0m\u001b[0;34m.\u001b[0m\u001b[0mfromarray\u001b[0m\u001b[0;34m(\u001b[0m\u001b[0mimg\u001b[0m\u001b[0;34m)\u001b[0m\u001b[0;34m\u001b[0m\u001b[0;34m\u001b[0m\u001b[0m\n\u001b[0;32m----> 9\u001b[0;31m   \u001b[0mim\u001b[0m\u001b[0;34m.\u001b[0m\u001b[0msave\u001b[0m\u001b[0;34m(\u001b[0m\u001b[0moutpath\u001b[0m\u001b[0;34m+\u001b[0m\u001b[0;34m'/'\u001b[0m\u001b[0;34m+\u001b[0m\u001b[0mfilename\u001b[0m\u001b[0;34m[\u001b[0m\u001b[0;34m:\u001b[0m\u001b[0;34m-\u001b[0m\u001b[0;36m3\u001b[0m\u001b[0;34m]\u001b[0m\u001b[0;34m+\u001b[0m\u001b[0;34m\".png\"\u001b[0m\u001b[0;34m)\u001b[0m\u001b[0;34m\u001b[0m\u001b[0;34m\u001b[0m\u001b[0m\n\u001b[0m\u001b[1;32m     10\u001b[0m   \u001b[0mi\u001b[0m\u001b[0;34m=\u001b[0m\u001b[0mi\u001b[0m\u001b[0;34m+\u001b[0m\u001b[0;36m1\u001b[0m\u001b[0;34m\u001b[0m\u001b[0;34m\u001b[0m\u001b[0m\n\u001b[1;32m     11\u001b[0m \u001b[0mprint\u001b[0m\u001b[0;34m(\u001b[0m\u001b[0mi\u001b[0m\u001b[0;34m)\u001b[0m\u001b[0;34m\u001b[0m\u001b[0;34m\u001b[0m\u001b[0m\n",
            "\u001b[0;32m/usr/local/lib/python3.7/dist-packages/PIL/Image.py\u001b[0m in \u001b[0;36msave\u001b[0;34m(self, fp, format, **params)\u001b[0m\n\u001b[1;32m   2129\u001b[0m                 \u001b[0mfp\u001b[0m \u001b[0;34m=\u001b[0m \u001b[0mbuiltins\u001b[0m\u001b[0;34m.\u001b[0m\u001b[0mopen\u001b[0m\u001b[0;34m(\u001b[0m\u001b[0mfilename\u001b[0m\u001b[0;34m,\u001b[0m \u001b[0;34m\"r+b\"\u001b[0m\u001b[0;34m)\u001b[0m\u001b[0;34m\u001b[0m\u001b[0;34m\u001b[0m\u001b[0m\n\u001b[1;32m   2130\u001b[0m             \u001b[0;32melse\u001b[0m\u001b[0;34m:\u001b[0m\u001b[0;34m\u001b[0m\u001b[0;34m\u001b[0m\u001b[0m\n\u001b[0;32m-> 2131\u001b[0;31m                 \u001b[0mfp\u001b[0m \u001b[0;34m=\u001b[0m \u001b[0mbuiltins\u001b[0m\u001b[0;34m.\u001b[0m\u001b[0mopen\u001b[0m\u001b[0;34m(\u001b[0m\u001b[0mfilename\u001b[0m\u001b[0;34m,\u001b[0m \u001b[0;34m\"w+b\"\u001b[0m\u001b[0;34m)\u001b[0m\u001b[0;34m\u001b[0m\u001b[0;34m\u001b[0m\u001b[0m\n\u001b[0m\u001b[1;32m   2132\u001b[0m \u001b[0;34m\u001b[0m\u001b[0m\n\u001b[1;32m   2133\u001b[0m         \u001b[0;32mtry\u001b[0m\u001b[0;34m:\u001b[0m\u001b[0;34m\u001b[0m\u001b[0;34m\u001b[0m\u001b[0m\n",
            "\u001b[0;31mFileNotFoundError\u001b[0m: [Errno 2] No such file or directory: '/content/gdrive/MyDrive/Adv-original/dataset/test_set/sample_39_Shetland_sheepdog_orig..png'"
          ]
        }
      ]
    },
    {
      "cell_type": "code",
      "metadata": {
        "id": "x8U8lbb7u4-q"
      },
      "source": [
        ""
      ],
      "execution_count": null,
      "outputs": []
    }
  ]
}