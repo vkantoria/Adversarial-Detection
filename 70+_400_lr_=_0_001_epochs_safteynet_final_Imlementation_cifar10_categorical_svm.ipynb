{
  "nbformat": 4,
  "nbformat_minor": 0,
  "metadata": {
    "colab": {
      "name": "70+_400_lr = 0.001_epochs_safteynet_final_Imlementation_cifar10_categorical_svm.ipynb",
      "provenance": [],
      "collapsed_sections": []
    },
    "kernelspec": {
      "name": "python3",
      "display_name": "Python 3"
    },
    "language_info": {
      "name": "python"
    },
    "accelerator": "GPU"
  },
  "cells": [
    {
      "cell_type": "code",
      "metadata": {
        "id": "sbMiirQk7Zhc"
      },
      "source": [
        "import tensorflow\n",
        "import cv2\n",
        "import numpy as np\n",
        "import matplotlib.pyplot as plt\n",
        "import keras.layers as layers\n",
        "from keras.models import Model\n",
        "from keras.preprocessing import image\n",
        "\n",
        "from tensorflow.keras.regularizers import l2\n",
        "\n",
        "import numpy as np \n",
        "import pandas as pd \n",
        "import matplotlib.pyplot as plt\n",
        "import os\n",
        "import cv2\n",
        "from google.colab.patches import cv2_imshow\n",
        "\n",
        "\n",
        "from keras import backend as K\n",
        "from keras.datasets import mnist\n",
        "from keras.models import Sequential, load_model\n",
        "from keras.layers import Dense, Dropout, Activation, Flatten\n",
        "from keras.layers import Convolution2D, MaxPooling2D\n",
        "from keras.utils import np_utils\n",
        "from sklearn.utils import shuffle"
      ],
      "execution_count": null,
      "outputs": []
    },
    {
      "cell_type": "code",
      "metadata": {
        "id": "ZAJSD3fY7zBB"
      },
      "source": [
        "from keras.initializers import glorot_uniform\n",
        "\n",
        "\n",
        "def identity_block(input_tensor, kernel_size, filters, stage, block):\n",
        "    \"\"\" \n",
        "    An identity block.\n",
        "\n",
        "    Parameters\n",
        "    ----------\n",
        "    input_tensor:\n",
        "\n",
        "    kernel_size: int\n",
        "        The kernel size of middle conv layer at main path.\n",
        "\n",
        "    filters: list[int]\n",
        "        The filters of 3 conv layer at main path.\n",
        "\n",
        "    stage: int\n",
        "        Current stage label, used for generating layer names.\n",
        "\n",
        "    block: : str\n",
        "        'a','b'..., current block label, used for generating layer names.\n",
        "\n",
        "    Returns\n",
        "    -------\n",
        "    Output tensor for the block.\n",
        "    \"\"\"\n",
        "    conv_name_base = 'res' + str(stage) + block + '_branch'\n",
        "    bn_name_base = 'bn' + str(stage) + block + '_branch'\n",
        "    \n",
        "    # for batch normalization layer, we assume\n",
        "    # the input data is in channel last format\n",
        "    bn_axis = 3\n",
        "\n",
        "    filters1, filters2, filters3 = filters\n",
        "  \n",
        "    # main path, note that setting the kernel_initializer seed here is only used\n",
        "    # for reproducibility, we techniqually don't need it\n",
        "    x = layers.Conv2D(filters1, kernel_size=(1, 1), strides=(1, 1),\n",
        "                      kernel_initializer=glorot_uniform(seed=0),\n",
        "                      padding='valid', name=conv_name_base + '2a')(input_tensor)\n",
        "    x = layers.BatchNormalization(axis=bn_axis, name=bn_name_base + '2a')(x)\n",
        "    x = layers.Activation('relu')(x)\n",
        "\n",
        "    x = layers.Conv2D(filters2, kernel_size, strides=(1, 1),\n",
        "                      kernel_initializer=glorot_uniform(seed=0),\n",
        "                      padding='same', name=conv_name_base + '2b')(x)\n",
        "    x = layers.BatchNormalization(axis=bn_axis, name=bn_name_base + '2b')(x)\n",
        "    x = layers.Activation('relu')(x)\n",
        "\n",
        "    x = layers.Conv2D(filters3, kernel_size=(1, 1), strides=(1, 1),\n",
        "                      kernel_initializer=glorot_uniform(seed=0),\n",
        "                      padding='valid', name=conv_name_base + '2c')(x)\n",
        "    x = layers.BatchNormalization(axis=bn_axis, name=bn_name_base + '2c')(x)\n",
        "\n",
        "    # this line is the core component of resnet, the skip connection, i.e.\n",
        "    # having a shortcut to the main path before the activation, when addition\n",
        "    # is performed on convolutional layers, the element-wise addition is performed\n",
        "    # on their feature maps, i.e. channel by channel\n",
        "    x = layers.add([x, input_tensor])\n",
        "    x = layers.Activation('relu')(x)\n",
        "    return x"
      ],
      "execution_count": null,
      "outputs": []
    },
    {
      "cell_type": "code",
      "metadata": {
        "id": "gsmpzMv37zDh"
      },
      "source": [
        "def conv_block(input_tensor, kernel_size, filters, stage, block, strides=(2, 2)):\n",
        "    \"\"\" \n",
        "    A block that has a conv layer at shortcut.\n",
        "\n",
        "    Parameters\n",
        "    ----------\n",
        "    input_tensor:\n",
        "    \n",
        "    kernel_size: int\n",
        "        The kernel size of middle conv layer at main path.\n",
        "\n",
        "    filters: list[int]\n",
        "        The filters of 3 conv layer at main path.\n",
        "\n",
        "    stage: int\n",
        "        Current stage label, used for generating layer names.\n",
        "\n",
        "    block: : str\n",
        "        'a','b'..., current block label, used for generating layer names.\n",
        "        \n",
        "    strides : tuple, default (2, 2)\n",
        "        Strides for the first conv layer in the block.\n",
        "\n",
        "    Returns\n",
        "    -------\n",
        "    Output tensor for the block.\n",
        "    \"\"\"\n",
        "    conv_name_base = 'res' + str(stage) + block + '_branch'\n",
        "    bn_name_base = 'bn' + str(stage) + block + '_branch'\n",
        "    \n",
        "    # for batch normalization layer, we assume\n",
        "    # the input data is in channel last format,\n",
        "    # which is the case if we are using the default\n",
        "    # keras' backend tensorflow\n",
        "    bn_axis = 3\n",
        "\n",
        "    filters1, filters2, filters3 = filters\n",
        "  \n",
        "    # main path, note that setting the kernel_initializer set here is only used\n",
        "    # for reproducibility, we techniqually don't need it\n",
        "    x = layers.Conv2D(filters1, kernel_size=(1, 1), strides=strides,\n",
        "                      kernel_initializer=glorot_uniform(seed=0),\n",
        "                      padding='valid', name=conv_name_base + '2a')(input_tensor)\n",
        "    x = layers.BatchNormalization(axis=bn_axis, name=bn_name_base + '2a')(x)\n",
        "    x = layers.Activation('relu')(x)\n",
        "\n",
        "    x = layers.Conv2D(filters2, kernel_size, strides=(1, 1),\n",
        "                      kernel_initializer=glorot_uniform(seed=0),\n",
        "                      padding='same', name=conv_name_base + '2b')(x)\n",
        "    x = layers.BatchNormalization(axis=bn_axis, name=bn_name_base + '2b')(x)\n",
        "    x = layers.Activation('relu')(x)\n",
        "\n",
        "    x = layers.Conv2D(filters3, kernel_size=(1, 1), strides=(1, 1),\n",
        "                      kernel_initializer=glorot_uniform(seed=0),\n",
        "                      padding='valid', name=conv_name_base + '2c')(x)\n",
        "    x = layers.BatchNormalization(axis=bn_axis, name=bn_name_base + '2c')(x)\n",
        "    \n",
        "    # we resize the input so its dimension will match the output dimension\n",
        "    # of the main path\n",
        "    shortcut = layers.Conv2D(filters3, kernel_size=(1, 1), strides=strides,\n",
        "                             kernel_initializer=glorot_uniform(seed=0),\n",
        "                             padding='valid', name=conv_name_base + '1')(input_tensor)\n",
        "    shortcut = layers.BatchNormalization(axis=bn_axis, name=bn_name_base + '1')(shortcut) \n",
        "\n",
        "    # this line is the core component of resnet, the skip connection, i.e.\n",
        "    # having a shortcut to the main path before the activation\n",
        "    x = layers.add([x, shortcut])\n",
        "    x = layers.Activation('relu')(x)\n",
        "    return x"
      ],
      "execution_count": null,
      "outputs": []
    },
    {
      "cell_type": "code",
      "metadata": {
        "colab": {
          "base_uri": "https://localhost:8080/"
        },
        "id": "XOOv-wgt7zG4",
        "outputId": "8f39cc43-2ecc-481d-8f63-9ed88bfa3004"
      },
      "source": [
        "from keras.datasets import cifar10\n",
        "from keras.utils import np_utils\n",
        "\n",
        "\n",
        "(x_train, y_train), (x_test, y_test) = cifar10.load_data()\n",
        "\n",
        "print(x_train.shape, 'train samples')\n",
        "print(x_test.shape, 'test samples')\n",
        "print(y_train.shape, 'train labels')\n",
        "print(y_test.shape, 'test labels')"
      ],
      "execution_count": null,
      "outputs": [
        {
          "output_type": "stream",
          "name": "stdout",
          "text": [
            "Downloading data from https://www.cs.toronto.edu/~kriz/cifar-10-python.tar.gz\n",
            "170500096/170498071 [==============================] - 2s 0us/step\n",
            "170508288/170498071 [==============================] - 2s 0us/step\n",
            "(50000, 32, 32, 3) train samples\n",
            "(10000, 32, 32, 3) test samples\n",
            "(50000, 1) train labels\n",
            "(10000, 1) test labels\n"
          ]
        }
      ]
    },
    {
      "cell_type": "code",
      "metadata": {
        "colab": {
          "base_uri": "https://localhost:8080/"
        },
        "id": "PcJ9W_E0tqfQ",
        "outputId": "6077fbc1-2161-4a6c-b350-919da444e988"
      },
      "source": [
        "print(y_train[2].shape)\n"
      ],
      "execution_count": null,
      "outputs": [
        {
          "output_type": "stream",
          "name": "stdout",
          "text": [
            "(1,)\n"
          ]
        }
      ]
    },
    {
      "cell_type": "code",
      "metadata": {
        "colab": {
          "base_uri": "https://localhost:8080/",
          "height": 872
        },
        "id": "ckr_6gSpvayj",
        "outputId": "abdb0446-797f-48d5-8054-0668af6ee876"
      },
      "source": [
        "cv2_imshow(x_train[1])\n",
        "print(x_train[0])"
      ],
      "execution_count": null,
      "outputs": [
        {
          "output_type": "display_data",
          "data": {
            "image/png": "[encoded data removed]",
            "text/plain": [
              "<PIL.Image.Image image mode=RGB size=32x32 at 0x7FC5AB8B3F10>"
            ]
          },
          "metadata": {}
        },
        {
          "output_type": "stream",
          "name": "stdout",
          "text": [
            "[[[ 59  62  63]\n",
            "  [ 43  46  45]\n",
            "  [ 50  48  43]\n",
            "  ...\n",
            "  [158 132 108]\n",
            "  [152 125 102]\n",
            "  [148 124 103]]\n",
            "\n",
            " [[ 16  20  20]\n",
            "  [  0   0   0]\n",
            "  [ 18   8   0]\n",
            "  ...\n",
            "  [123  88  55]\n",
            "  [119  83  50]\n",
            "  [122  87  57]]\n",
            "\n",
            " [[ 25  24  21]\n",
            "  [ 16   7   0]\n",
            "  [ 49  27   8]\n",
            "  ...\n",
            "  [118  84  50]\n",
            "  [120  84  50]\n",
            "  [109  73  42]]\n",
            "\n",
            " ...\n",
            "\n",
            " [[208 170  96]\n",
            "  [201 153  34]\n",
            "  [198 161  26]\n",
            "  ...\n",
            "  [160 133  70]\n",
            "  [ 56  31   7]\n",
            "  [ 53  34  20]]\n",
            "\n",
            " [[180 139  96]\n",
            "  [173 123  42]\n",
            "  [186 144  30]\n",
            "  ...\n",
            "  [184 148  94]\n",
            "  [ 97  62  34]\n",
            "  [ 83  53  34]]\n",
            "\n",
            " [[177 144 116]\n",
            "  [168 129  94]\n",
            "  [179 142  87]\n",
            "  ...\n",
            "  [216 184 140]\n",
            "  [151 118  84]\n",
            "  [123  92  72]]]\n"
          ]
        }
      ]
    },
    {
      "cell_type": "code",
      "metadata": {
        "colab": {
          "base_uri": "https://localhost:8080/"
        },
        "id": "DpTyWFno7zKX",
        "outputId": "565032d1-72e7-4958-bc8e-c959f6bdedaa"
      },
      "source": [
        "n_classes = 10\n",
        "img_rows, img_cols, img_channel = 32, 32, 3\n",
        "\n",
        "# mnist is grey-scaled image, thus the last dimension, channel size will be 1\n",
        "X_train = x_train.reshape(x_train.shape[0], img_rows, img_cols, img_channel)\n",
        "X_test  = x_test.reshape(x_test.shape[0], img_rows, img_cols, img_channel)\n",
        "input_shape = img_rows, img_cols, img_channel\n",
        "\n",
        "X_train = X_train.astype('float32')\n",
        "X_test  = X_test.astype('float32')\n",
        "\n",
        "# images takes values between 0 - 255, we can normalize it\n",
        "# by dividing every number by 255\n",
        "X_train /= 255\n",
        "X_test /= 255\n",
        "print('train shape:', X_train.shape)\n",
        "\n",
        "# one-hot encode the class (target) vectors\n",
        "Y_train = np_utils.to_categorical(y_train, n_classes)\n",
        "Y_test = np_utils.to_categorical(y_test , n_classes)\n",
        "print('Y_test shape:', Y_test.shape)\n",
        "Y_test[0].shape"
      ],
      "execution_count": null,
      "outputs": [
        {
          "output_type": "stream",
          "name": "stdout",
          "text": [
            "train shape: (50000, 32, 32, 3)\n",
            "Y_test shape: (10000, 10)\n"
          ]
        },
        {
          "output_type": "execute_result",
          "data": {
            "text/plain": [
              "(10,)"
            ]
          },
          "metadata": {},
          "execution_count": 7
        }
      ]
    },
    {
      "cell_type": "code",
      "metadata": {
        "colab": {
          "base_uri": "https://localhost:8080/"
        },
        "id": "Bewni7QZv9Lf",
        "outputId": "fb81904f-dab5-459d-ea3e-4a8bbd976faa"
      },
      "source": [
        "Y_train"
      ],
      "execution_count": null,
      "outputs": [
        {
          "output_type": "execute_result",
          "data": {
            "text/plain": [
              "array([[0., 0., 0., ..., 0., 0., 0.],\n",
              "       [0., 0., 0., ..., 0., 0., 1.],\n",
              "       [0., 0., 0., ..., 0., 0., 1.],\n",
              "       ...,\n",
              "       [0., 0., 0., ..., 0., 0., 1.],\n",
              "       [0., 1., 0., ..., 0., 0., 0.],\n",
              "       [0., 1., 0., ..., 0., 0., 0.]], dtype=float32)"
            ]
          },
          "metadata": {},
          "execution_count": 8
        }
      ]
    },
    {
      "cell_type": "code",
      "metadata": {
        "id": "XPsJVHPG77fp"
      },
      "source": [
        "def ResNet(input_shape, n_classes):\n",
        "    \"\"\"\n",
        "    Definition of ResNet\n",
        "    \n",
        "    References\n",
        "    ----------\n",
        "    https://github.com/keras-team/keras-applications/blob/master/keras_applications/resnet50.py\n",
        "    \"\"\"\n",
        "    img_input = layers.Input(shape=input_shape)\n",
        "    \n",
        "    bn_axis = 3\n",
        "    \n",
        "    x = layers.ZeroPadding2D(padding=(3, 3), name='conv1_pad')(img_input)\n",
        "    x = layers.Conv2D(64, (7, 7),\n",
        "                      strides=(2, 2),\n",
        "                      padding='valid',\n",
        "                      kernel_initializer='he_normal',\n",
        "                      name='conv1')(x)\n",
        "    x = layers.BatchNormalization(axis=bn_axis, name='bn_conv1')(x)\n",
        "    x = layers.Activation('relu')(x)\n",
        "    x = layers.ZeroPadding2D(padding=(1, 1), name='pool1_pad')(x)\n",
        "    x = layers.MaxPooling2D((3, 3), strides=(2, 2))(x)\n",
        "\n",
        "    x = conv_block(x, 3, [64, 64, 256], stage=2, block='a', strides=(1, 1))\n",
        "    x = identity_block(x, 3, [64, 64, 256], stage=2, block='b')\n",
        "    x = identity_block(x, 3, [64, 64, 256], stage=2, block='c')\n",
        "\n",
        "    x = conv_block(x, 3, [128, 128, 512], stage=3, block='a')\n",
        "    x = identity_block(x, 3, [128, 128, 512], stage=3, block='b')\n",
        "    x = identity_block(x, 3, [128, 128, 512], stage=3, block='c')\n",
        "    x = identity_block(x, 3, [128, 128, 512], stage=3, block='d')\n",
        "    \n",
        "    # the commented out blocks are what's needed to build out the\n",
        "    # full ResNet50 (a ResNet with 50 layers), we won't be needing\n",
        "    # the complexity here\n",
        "    x = conv_block(x, 3, [256, 256, 1024], stage=4, block='a')\n",
        "    x = identity_block(x, 3, [256, 256, 1024], stage=4, block='b')\n",
        "    x = identity_block(x, 3, [256, 256, 1024], stage=4, block='c')\n",
        "    #x = identity_block(x, 3, [256, 256, 1024], stage=4, block='d')\n",
        "    # x = identity_block(x, 3, [256, 256, 1024], stage=4, block='e')\n",
        "    # x = identity_block(x, 3, [256, 256, 1024], stage=4, block='f')\n",
        "\n",
        "    # x = conv_block(x, 3, [512, 512, 2048], stage=5, block='a')\n",
        "    # x = identity_block(x, 3, [512, 512, 2048], stage=5, block='b')\n",
        "    # x = identity_block(x, 3, [512, 512, 2048], stage=5, block='c')\n",
        "    \n",
        "    x = layers.GlobalAveragePooling2D(name='avg_pool')(x)\n",
        "    #img_output = layers.Dense(n_classes, activation='softmax', name='fc' + str(n_classes))(x)\n",
        "    img_output = layers.Dense(n_classes, kernel_regularizer=tensorflow.keras.regularizers.l2(0.01),activation ='softmax' , name = 'fc' + str(n_classes))(x); \n",
        "    model = Model(inputs=img_input, outputs=img_output, name='resnet')\n",
        "    return model\n",
        "\n",
        "\n",
        "model = ResNet(input_shape, n_classes)\n",
        "model.compile(optimizer = 'adam', loss = 'squared_hinge', metrics = ['accuracy'])\n",
        "#model.compile(optimizer='adam', loss='categorical_crossentropy', metrics=['accuracy'])\n",
        "#model.summary()"
      ],
      "execution_count": null,
      "outputs": []
    },
    {
      "cell_type": "code",
      "metadata": {
        "colab": {
          "base_uri": "https://localhost:8080/"
        },
        "id": "f8flYTSS-CYs",
        "outputId": "6ed528e3-7157-4e1a-e35f-2e78539b18ce"
      },
      "source": [
        "history = model.fit(X_train[0:1265], Y_train[0:1265], epochs=50, batch_size=32, validation_data=(X_test[0:565], Y_test[0:565]))"
      ],
      "execution_count": null,
      "outputs": [
        {
          "output_type": "stream",
          "name": "stdout",
          "text": [
            "Epoch 1/50\n",
            "40/40 [==============================] - 6s 156ms/step - loss: 0.9626 - accuracy: 0.8474 - val_loss: 1.0117 - val_accuracy: 0.7165\n",
            "Epoch 2/50\n",
            "40/40 [==============================] - 6s 142ms/step - loss: 0.9510 - accuracy: 0.8751 - val_loss: 1.0204 - val_accuracy: 0.6932\n",
            "Epoch 3/50\n",
            "40/40 [==============================] - 6s 142ms/step - loss: 0.9473 - accuracy: 0.8917 - val_loss: 1.0076 - val_accuracy: 0.7252\n",
            "Epoch 4/50\n",
            "40/40 [==============================] - 6s 142ms/step - loss: 0.9430 - accuracy: 0.8980 - val_loss: 1.0092 - val_accuracy: 0.7203\n",
            "Epoch 5/50\n",
            "40/40 [==============================] - 6s 141ms/step - loss: 0.9368 - accuracy: 0.9083 - val_loss: 1.0180 - val_accuracy: 0.6984\n",
            "Epoch 6/50\n",
            "40/40 [==============================] - 6s 142ms/step - loss: 0.9348 - accuracy: 0.9194 - val_loss: 1.0083 - val_accuracy: 0.7247\n",
            "Epoch 7/50\n",
            "40/40 [==============================] - 6s 142ms/step - loss: 0.9318 - accuracy: 0.9265 - val_loss: 1.0057 - val_accuracy: 0.7298\n",
            "Epoch 8/50\n",
            "40/40 [==============================] - 6s 143ms/step - loss: 0.9301 - accuracy: 0.9273 - val_loss: 1.0105 - val_accuracy: 0.7174\n",
            "Epoch 9/50\n",
            "40/40 [==============================] - 6s 142ms/step - loss: 0.9268 - accuracy: 0.9360 - val_loss: 1.0102 - val_accuracy: 0.7152\n",
            "Epoch 10/50\n",
            "40/40 [==============================] - 6s 142ms/step - loss: 0.9244 - accuracy: 0.9415 - val_loss: 1.0069 - val_accuracy: 0.7260\n",
            "Epoch 11/50\n",
            "40/40 [==============================] - 6s 141ms/step - loss: 0.9249 - accuracy: 0.9415 - val_loss: 1.0062 - val_accuracy: 0.7258\n",
            "Epoch 12/50\n",
            "40/40 [==============================] - 6s 141ms/step - loss: 0.9236 - accuracy: 0.9447 - val_loss: 1.0087 - val_accuracy: 0.7183\n",
            "Epoch 13/50\n",
            "40/40 [==============================] - 6s 141ms/step - loss: 0.9218 - accuracy: 0.9470 - val_loss: 1.0059 - val_accuracy: 0.7276\n",
            "Epoch 14/50\n",
            "40/40 [==============================] - 6s 143ms/step - loss: 0.9204 - accuracy: 0.9518 - val_loss: 1.0050 - val_accuracy: 0.7301\n",
            "Epoch 15/50\n",
            "40/40 [==============================] - 6s 142ms/step - loss: 0.9199 - accuracy: 0.9542 - val_loss: 1.0059 - val_accuracy: 0.7271\n",
            "Epoch 16/50\n",
            "40/40 [==============================] - 6s 142ms/step - loss: 0.9196 - accuracy: 0.9565 - val_loss: 1.0065 - val_accuracy: 0.7259\n",
            "Epoch 17/50\n",
            "40/40 [==============================] - 6s 142ms/step - loss: 0.9187 - accuracy: 0.9581 - val_loss: 1.0078 - val_accuracy: 0.7217\n",
            "Epoch 18/50\n",
            "40/40 [==============================] - 6s 142ms/step - loss: 0.9188 - accuracy: 0.9573 - val_loss: 1.0064 - val_accuracy: 0.7256\n",
            "Epoch 19/50\n",
            "40/40 [==============================] - 6s 142ms/step - loss: 0.9185 - accuracy: 0.9581 - val_loss: 1.0091 - val_accuracy: 0.7214\n",
            "Epoch 20/50\n",
            "40/40 [==============================] - 6s 142ms/step - loss: 0.9185 - accuracy: 0.9589 - val_loss: 1.0119 - val_accuracy: 0.7121\n",
            "Epoch 21/50\n",
            "40/40 [==============================] - 6s 143ms/step - loss: 0.9179 - accuracy: 0.9605 - val_loss: 1.0070 - val_accuracy: 0.7237\n",
            "Epoch 22/50\n",
            "40/40 [==============================] - 6s 144ms/step - loss: 0.9168 - accuracy: 0.9613 - val_loss: 1.0078 - val_accuracy: 0.7227\n",
            "Epoch 23/50\n",
            "40/40 [==============================] - 6s 143ms/step - loss: 0.9159 - accuracy: 0.9636 - val_loss: 1.0100 - val_accuracy: 0.7190\n",
            "Epoch 24/50\n",
            "40/40 [==============================] - 6s 142ms/step - loss: 0.9167 - accuracy: 0.9621 - val_loss: 1.0099 - val_accuracy: 0.7176\n",
            "Epoch 25/50\n",
            "40/40 [==============================] - 6s 142ms/step - loss: 0.9158 - accuracy: 0.9628 - val_loss: 1.0104 - val_accuracy: 0.7152\n",
            "Epoch 26/50\n",
            "40/40 [==============================] - 6s 142ms/step - loss: 0.9170 - accuracy: 0.9605 - val_loss: 1.0136 - val_accuracy: 0.7077\n",
            "Epoch 27/50\n",
            "40/40 [==============================] - 6s 142ms/step - loss: 0.9160 - accuracy: 0.9621 - val_loss: 1.0105 - val_accuracy: 0.7162\n",
            "Epoch 28/50\n",
            "40/40 [==============================] - 6s 143ms/step - loss: 0.9161 - accuracy: 0.9636 - val_loss: 1.0176 - val_accuracy: 0.6988\n",
            "Epoch 29/50\n",
            "40/40 [==============================] - 6s 142ms/step - loss: 0.9140 - accuracy: 0.9708 - val_loss: 1.0115 - val_accuracy: 0.7127\n",
            "Epoch 30/50\n",
            "40/40 [==============================] - 6s 141ms/step - loss: 0.9135 - accuracy: 0.9708 - val_loss: 1.0120 - val_accuracy: 0.7123\n",
            "Epoch 31/50\n",
            "40/40 [==============================] - 6s 141ms/step - loss: 0.9128 - accuracy: 0.9747 - val_loss: 1.0124 - val_accuracy: 0.7124\n",
            "Epoch 32/50\n",
            "40/40 [==============================] - 6s 142ms/step - loss: 0.9118 - accuracy: 0.9763 - val_loss: 1.0082 - val_accuracy: 0.7215\n",
            "Epoch 33/50\n",
            "40/40 [==============================] - 6s 142ms/step - loss: 0.9132 - accuracy: 0.9715 - val_loss: 1.0115 - val_accuracy: 0.7137\n",
            "Epoch 34/50\n",
            "40/40 [==============================] - 6s 142ms/step - loss: 0.9130 - accuracy: 0.9747 - val_loss: 1.0111 - val_accuracy: 0.7160\n",
            "Epoch 35/50\n",
            "40/40 [==============================] - 6s 142ms/step - loss: 0.9116 - accuracy: 0.9779 - val_loss: 1.0132 - val_accuracy: 0.7108\n",
            "Epoch 36/50\n",
            "40/40 [==============================] - 6s 143ms/step - loss: 0.9102 - accuracy: 0.9794 - val_loss: 1.0109 - val_accuracy: 0.7161\n",
            "Epoch 37/50\n",
            "40/40 [==============================] - 6s 142ms/step - loss: 0.9094 - accuracy: 0.9818 - val_loss: 1.0265 - val_accuracy: 0.6750\n",
            "Epoch 38/50\n",
            "40/40 [==============================] - 6s 143ms/step - loss: 0.9096 - accuracy: 0.9802 - val_loss: 1.0143 - val_accuracy: 0.7062\n",
            "Epoch 39/50\n",
            "40/40 [==============================] - 6s 142ms/step - loss: 0.9105 - accuracy: 0.9779 - val_loss: 1.0184 - val_accuracy: 0.6973\n",
            "Epoch 40/50\n",
            "40/40 [==============================] - 6s 142ms/step - loss: 0.9106 - accuracy: 0.9787 - val_loss: 1.0287 - val_accuracy: 0.6690\n",
            "Epoch 41/50\n",
            "40/40 [==============================] - 6s 142ms/step - loss: 0.9110 - accuracy: 0.9763 - val_loss: 1.0159 - val_accuracy: 0.7023\n",
            "Epoch 42/50\n",
            "40/40 [==============================] - 6s 142ms/step - loss: 0.9124 - accuracy: 0.9771 - val_loss: 1.0226 - val_accuracy: 0.6858\n",
            "Epoch 43/50\n",
            "40/40 [==============================] - 6s 142ms/step - loss: 0.9124 - accuracy: 0.9771 - val_loss: 1.0204 - val_accuracy: 0.6912\n",
            "Epoch 44/50\n",
            "40/40 [==============================] - 6s 142ms/step - loss: 0.9104 - accuracy: 0.9810 - val_loss: 1.0150 - val_accuracy: 0.7055\n",
            "Epoch 45/50\n",
            "40/40 [==============================] - 7s 177ms/step - loss: 0.9084 - accuracy: 0.9858 - val_loss: 1.0133 - val_accuracy: 0.7076\n",
            "Epoch 46/50\n",
            "40/40 [==============================] - 6s 142ms/step - loss: 0.9080 - accuracy: 0.9858 - val_loss: 1.0126 - val_accuracy: 0.7109\n",
            "Epoch 47/50\n",
            "40/40 [==============================] - 6s 142ms/step - loss: 0.9082 - accuracy: 0.9842 - val_loss: 1.0106 - val_accuracy: 0.7160\n",
            "Epoch 48/50\n",
            "40/40 [==============================] - 6s 142ms/step - loss: 0.9078 - accuracy: 0.9850 - val_loss: 1.0137 - val_accuracy: 0.7059\n",
            "Epoch 49/50\n",
            "40/40 [==============================] - 6s 143ms/step - loss: 0.9069 - accuracy: 0.9881 - val_loss: 1.0121 - val_accuracy: 0.7124\n",
            "Epoch 50/50\n",
            "40/40 [==============================] - 6s 142ms/step - loss: 0.9071 - accuracy: 0.9874 - val_loss: 1.0206 - val_accuracy: 0.6888\n"
          ]
        }
      ]
    },
    {
      "cell_type": "code",
      "metadata": {
        "id": "RU5ART7s7zNT",
        "colab": {
          "base_uri": "https://localhost:8080/"
        },
        "outputId": "69c2d3ae-32d8-4626-dd4b-666334a191b1"
      },
      "source": [
        "loss, accuracy = model.evaluate(X_test, Y_test)\n",
        "print('Loss = ' + str(loss))\n",
        "print('Test Accuracy = ' + str(accuracy))"
      ],
      "execution_count": null,
      "outputs": [
        {
          "output_type": "stream",
          "name": "stdout",
          "text": [
            "313/313 [==============================] - 4s 14ms/step - loss: 1.0206 - accuracy: 0.6888\n",
            "Loss = 1.020601749420166\n",
            "Test Accuracy = 0.6887999773025513\n"
          ]
        }
      ]
    },
    {
      "cell_type": "code",
      "metadata": {
        "id": "nwGpZ2mQ8Fwd",
        "colab": {
          "base_uri": "https://localhost:8080/"
        },
        "outputId": "c2962332-6c4e-4dd3-d778-859f61b2d823"
      },
      "source": [
        "#!pip install -q tensorflow==2.0.0b1\n",
        "# Install bleeding edge version of cleverhans\n",
        "!pip install git+https://github.com/tensorflow/cleverhans.git#egg=cleverhans\n",
        "\n",
        "import cleverhans\n",
        "import tensorflow as tf\n",
        "import numpy as np\n",
        "import matplotlib.pyplot as plt\n",
        "\n"
      ],
      "execution_count": null,
      "outputs": [
        {
          "output_type": "stream",
          "name": "stdout",
          "text": [
            "Collecting cleverhans\n",
            "  Cloning https://github.com/tensorflow/cleverhans.git to /tmp/pip-install-voyyymfb/cleverhans_0b1277c443ed4136bb320ab41a76a31e\n",
            "  Running command git clone -q https://github.com/tensorflow/cleverhans.git /tmp/pip-install-voyyymfb/cleverhans_0b1277c443ed4136bb320ab41a76a31e\n",
            "Collecting nose\n",
            "  Downloading nose-1.3.7-py3-none-any.whl (154 kB)\n",
            "\u001b[K     |████████████████████████████████| 154 kB 5.4 MB/s \n",
            "\u001b[?25hCollecting pycodestyle\n",
            "  Downloading pycodestyle-2.8.0-py2.py3-none-any.whl (42 kB)\n",
            "\u001b[K     |████████████████████████████████| 42 kB 885 kB/s \n",
            "\u001b[?25hRequirement already satisfied: scipy in /usr/local/lib/python3.7/dist-packages (from cleverhans) (1.4.1)\n",
            "Requirement already satisfied: matplotlib in /usr/local/lib/python3.7/dist-packages (from cleverhans) (3.2.2)\n",
            "Collecting mnist\n",
            "  Downloading mnist-0.2.2-py2.py3-none-any.whl (3.5 kB)\n",
            "Requirement already satisfied: numpy in /usr/local/lib/python3.7/dist-packages (from cleverhans) (1.19.5)\n",
            "Requirement already satisfied: tensorflow-probability in /usr/local/lib/python3.7/dist-packages (from cleverhans) (0.14.1)\n",
            "Requirement already satisfied: joblib in /usr/local/lib/python3.7/dist-packages (from cleverhans) (1.0.1)\n",
            "Requirement already satisfied: easydict in /usr/local/lib/python3.7/dist-packages (from cleverhans) (1.9)\n",
            "Requirement already satisfied: absl-py in /usr/local/lib/python3.7/dist-packages (from cleverhans) (0.12.0)\n",
            "Requirement already satisfied: six in /usr/local/lib/python3.7/dist-packages (from cleverhans) (1.15.0)\n",
            "Requirement already satisfied: kiwisolver>=1.0.1 in /usr/local/lib/python3.7/dist-packages (from matplotlib->cleverhans) (1.3.2)\n",
            "Requirement already satisfied: python-dateutil>=2.1 in /usr/local/lib/python3.7/dist-packages (from matplotlib->cleverhans) (2.8.2)\n",
            "Requirement already satisfied: cycler>=0.10 in /usr/local/lib/python3.7/dist-packages (from matplotlib->cleverhans) (0.10.0)\n",
            "Requirement already satisfied: pyparsing!=2.0.4,!=2.1.2,!=2.1.6,>=2.0.1 in /usr/local/lib/python3.7/dist-packages (from matplotlib->cleverhans) (2.4.7)\n",
            "Requirement already satisfied: dm-tree in /usr/local/lib/python3.7/dist-packages (from tensorflow-probability->cleverhans) (0.1.6)\n",
            "Requirement already satisfied: cloudpickle>=1.3 in /usr/local/lib/python3.7/dist-packages (from tensorflow-probability->cleverhans) (1.3.0)\n",
            "Requirement already satisfied: gast>=0.3.2 in /usr/local/lib/python3.7/dist-packages (from tensorflow-probability->cleverhans) (0.4.0)\n",
            "Requirement already satisfied: decorator in /usr/local/lib/python3.7/dist-packages (from tensorflow-probability->cleverhans) (4.4.2)\n",
            "Building wheels for collected packages: cleverhans\n",
            "  Building wheel for cleverhans (setup.py) ... \u001b[?25l\u001b[?25hdone\n",
            "  Created wheel for cleverhans: filename=cleverhans-4.0.0-py3-none-any.whl size=92423 sha256=0f2c70ba72516dc16c22d1fb725869cfa00046a7a66781ee5454872bcc04a4fd\n",
            "  Stored in directory: /tmp/pip-ephem-wheel-cache-_hl8_yjp/wheels/60/54/1e/97e3fe32d62bd252c9fbbee44a0545028c6018b81c054af3e4\n",
            "Successfully built cleverhans\n",
            "Installing collected packages: pycodestyle, nose, mnist, cleverhans\n",
            "Successfully installed cleverhans-4.0.0 mnist-0.2.2 nose-1.3.7 pycodestyle-2.8.0\n"
          ]
        }
      ]
    },
    {
      "cell_type": "code",
      "metadata": {
        "id": "lEXj_jju8FzF",
        "colab": {
          "base_uri": "https://localhost:8080/"
        },
        "outputId": "f532ea42-a948-43d4-b8ba-30fd658f7709"
      },
      "source": [
        "# Import the attack\n",
        "from cleverhans.tf2.attacks import fast_gradient_method\n",
        "\n",
        "#The attack requires the model to ouput the logits\n",
        "logits_model = tf.keras.Model(model.input,model.layers[-1].output)\n",
        "print(logits_model)"
      ],
      "execution_count": null,
      "outputs": [
        {
          "output_type": "stream",
          "name": "stdout",
          "text": [
            "<keras.engine.functional.Functional object at 0x7fc4b6dcdf90>\n"
          ]
        }
      ]
    },
    {
      "cell_type": "code",
      "metadata": {
        "id": "ElPwr6eS-1ME"
      },
      "source": [
        "def adv_generate(X_images):\n",
        "  images = []\n",
        "  labels = []\n",
        "  adv_orig_images = []\n",
        "  adv_orig_labels = []\n",
        "  epsilon = 0.1\n",
        "\n",
        "  for item in X_images:\n",
        "    #cv2_imshow(item)\n",
        "    adv_orig_images.append(item)\n",
        "    adv_orig_labels.append(0)\n",
        "\n",
        "    original_image = tf.convert_to_tensor(item.reshape((1,32,32,3))) \n",
        "    adv_img = fast_gradient_method.fast_gradient_method(logits_model, original_image, epsilon, np.inf, targeted=False)\n",
        "    adv_img = np.reshape(adv_img, (1,32,32,3))\n",
        "\n",
        "    adv_labels = model.predict(adv_img)\n",
        "    images.append(np.reshape(adv_img, (32,32,3)))\n",
        "    #print(adv_labels)\n",
        "    labels.append(np.reshape(adv_labels,(10)))\n",
        "\n",
        "    adv_orig_images.append(np.reshape(adv_img,(32,32,3)))\n",
        "    adv_orig_labels.append(1)\n",
        "\n",
        "  images = np.array(images)\n",
        "  labels = np.array(labels)\n",
        "  adv_orig_images = np.array(adv_orig_images)\n",
        "  adv_orig_labels = np.array(adv_orig_labels)\n",
        "  #labels = labels.reshape(-1, 1) \n",
        "  adv_orig_labels1 = adv_orig_labels.reshape(-1, 1) \n",
        "  adv_orig_images,adv_orig_labels1 = shuffle( adv_orig_images, adv_orig_labels, random_state=23)\n",
        "  return images, labels, adv_orig_images, adv_orig_labels\n",
        "  \n",
        "\n",
        "  "
      ],
      "execution_count": null,
      "outputs": []
    },
    {
      "cell_type": "code",
      "metadata": {
        "id": "QaRJCGJUBlfq"
      },
      "source": [
        "\n",
        "x_train_adv, y_train_adv, X_train_adv_orig, Y_train_adv_orig = adv_generate(x_train[0:1265])\n",
        "\n",
        "\n"
      ],
      "execution_count": null,
      "outputs": []
    },
    {
      "cell_type": "code",
      "metadata": {
        "id": "COx-PwYHQlUn"
      },
      "source": [
        "\n",
        "x_test_adv, y_test_adv, X_test_adv_orig, Y_test_adv_orig = adv_generate(x_test[0:565])"
      ],
      "execution_count": null,
      "outputs": []
    },
    {
      "cell_type": "code",
      "metadata": {
        "id": "bUCfYWXhpKNf",
        "colab": {
          "base_uri": "https://localhost:8080/"
        },
        "outputId": "7f1197b8-281f-47f7-d7c9-e73013e84e80"
      },
      "source": [
        "X_test_adv_orig[1]"
      ],
      "execution_count": null,
      "outputs": [
        {
          "output_type": "execute_result",
          "data": {
            "text/plain": [
              "array([[[153., 163., 120.],\n",
              "        [173., 183., 140.],\n",
              "        [188., 197., 163.],\n",
              "        ...,\n",
              "        [106.,  92.,  68.],\n",
              "        [ 67.,  54.,  38.],\n",
              "        [ 61.,  49.,  36.]],\n",
              "\n",
              "       [[ 69.,  80.,  44.],\n",
              "        [119., 130.,  95.],\n",
              "        [182., 192., 159.],\n",
              "        ...,\n",
              "        [117.,  93.,  70.],\n",
              "        [104.,  83.,  67.],\n",
              "        [110.,  94.,  80.]],\n",
              "\n",
              "       [[ 50.,  55.,  41.],\n",
              "        [ 77.,  81.,  68.],\n",
              "        [174., 180., 162.],\n",
              "        ...,\n",
              "        [154., 131., 113.],\n",
              "        [142., 121., 107.],\n",
              "        [133., 115.,  98.]],\n",
              "\n",
              "       ...,\n",
              "\n",
              "       [[152., 135., 108.],\n",
              "        [146., 133., 106.],\n",
              "        [141., 133., 107.],\n",
              "        ...,\n",
              "        [152., 144., 127.],\n",
              "        [162., 152., 132.],\n",
              "        [126., 112.,  91.]],\n",
              "\n",
              "       [[147., 130., 113.],\n",
              "        [132., 121., 106.],\n",
              "        [125., 114.,  97.],\n",
              "        ...,\n",
              "        [174., 163., 139.],\n",
              "        [177., 168., 147.],\n",
              "        [140., 131., 109.]],\n",
              "\n",
              "       [[122., 111.,  92.],\n",
              "        [109.,  99.,  82.],\n",
              "        [158., 140., 118.],\n",
              "        ...,\n",
              "        [143., 129., 102.],\n",
              "        [132., 124., 101.],\n",
              "        [142., 135., 114.]]], dtype=float32)"
            ]
          },
          "metadata": {},
          "execution_count": 18
        }
      ]
    },
    {
      "cell_type": "code",
      "metadata": {
        "id": "hKXImWdRez2a"
      },
      "source": [
        "X_train_adv_orig = X_train_adv_orig.astype('uint8')\n",
        "#X_train_adv_orig"
      ],
      "execution_count": null,
      "outputs": []
    },
    {
      "cell_type": "code",
      "metadata": {
        "id": "agu73YG2e9YN"
      },
      "source": [
        "X_test_adv_orig = X_test_adv_orig.astype('uint8')\n",
        "#X_test_adv_orig"
      ],
      "execution_count": null,
      "outputs": []
    },
    {
      "cell_type": "code",
      "metadata": {
        "id": "k6KuB8MWgQMl",
        "colab": {
          "base_uri": "https://localhost:8080/"
        },
        "outputId": "66f2886f-dd99-4dfd-e58a-0f11bf8e6bc9"
      },
      "source": [
        "X_train_adv_orig.shape"
      ],
      "execution_count": null,
      "outputs": [
        {
          "output_type": "execute_result",
          "data": {
            "text/plain": [
              "(4000, 32, 32, 3)"
            ]
          },
          "metadata": {},
          "execution_count": 187
        }
      ]
    },
    {
      "cell_type": "code",
      "metadata": {
        "id": "hf9DCPGQh9w5",
        "colab": {
          "base_uri": "https://localhost:8080/"
        },
        "outputId": "c7be57c0-22eb-4793-aa58-da2c4a574097"
      },
      "source": [
        "X_test_adv_orig.shape"
      ],
      "execution_count": null,
      "outputs": [
        {
          "output_type": "execute_result",
          "data": {
            "text/plain": [
              "(1200, 32, 32, 3)"
            ]
          },
          "metadata": {},
          "execution_count": 188
        }
      ]
    },
    {
      "cell_type": "code",
      "metadata": {
        "id": "GBIhbq17TuN3",
        "colab": {
          "base_uri": "https://localhost:8080/"
        },
        "outputId": "902d81b7-e487-4a5a-a469-fdd8cd6e1e0e"
      },
      "source": [
        "Y_test_adv_orig.shape\n",
        "#X_test_adv_orig.shape"
      ],
      "execution_count": null,
      "outputs": [
        {
          "output_type": "execute_result",
          "data": {
            "text/plain": [
              "(1200,)"
            ]
          },
          "metadata": {},
          "execution_count": 189
        }
      ]
    },
    {
      "cell_type": "code",
      "metadata": {
        "id": "s6TvPB8YVHiR",
        "colab": {
          "base_uri": "https://localhost:8080/"
        },
        "outputId": "d236a4df-7e57-4d67-ed95-e6f5ad7ba62f"
      },
      "source": [
        "\n",
        "Y_train_adv_orig"
      ],
      "execution_count": null,
      "outputs": [
        {
          "output_type": "execute_result",
          "data": {
            "text/plain": [
              "array([0, 1, 0, ..., 1, 0, 1])"
            ]
          },
          "metadata": {},
          "execution_count": 190
        }
      ]
    },
    {
      "cell_type": "code",
      "metadata": {
        "id": "nvX6sSpahy_H",
        "colab": {
          "base_uri": "https://localhost:8080/"
        },
        "outputId": "53c5763d-3661-4850-d1d5-d457f3bcab5c"
      },
      "source": [
        "n_classes1 = 2\n",
        "img_rows1, img_cols1, img_channel1 = 32, 32, 3\n",
        "\n",
        "# mnist is grey-scaled image, thus the last dimension, channel size will be 1\n",
        "X_train1_adv_orig = X_train_adv_orig.reshape(X_train_adv_orig.shape[0], img_rows1, img_cols1, img_channel1)\n",
        "X_test1_adv_orig  = X_test_adv_orig.reshape(X_test_adv_orig.shape[0], img_rows1, img_cols1, img_channel1)\n",
        "input_shape1 = img_rows1, img_cols1, img_channel1\n",
        "\n",
        "X_train1_adv_orig = X_train1_adv_orig.astype('float32')\n",
        "X_test1_adv_orig  = X_test1_adv_orig.astype('float32')\n",
        "\n",
        "# images takes values between 0 - 255, we can normalize it\n",
        "# by dividing every number by 255\n",
        "X_train1_adv_orig /= 255\n",
        "X_test1_adv_orig /= 255\n",
        "print('train shape:', X_train1_adv_orig.shape)\n",
        "\n",
        "# one-hot encode the class (target) vectors\n",
        "Y_train1_adv_orig = np_utils.to_categorical(Y_train_adv_orig, n_classes1)\n",
        "Y_test1_adv_orig = np_utils.to_categorical(Y_test_adv_orig , n_classes1)\n",
        "#print('Y_train shape:', Y_test1_adv_orig.shape)\n",
        "\n",
        "#Y_train\n",
        "#Y_train1_adv_orig[0].shape\n",
        "Y_train1_adv_orig.shape"
      ],
      "execution_count": null,
      "outputs": [
        {
          "output_type": "stream",
          "name": "stdout",
          "text": [
            "train shape: (2530, 32, 32, 3)\n"
          ]
        },
        {
          "output_type": "execute_result",
          "data": {
            "text/plain": [
              "(2530, 2)"
            ]
          },
          "metadata": {},
          "execution_count": 39
        }
      ]
    },
    {
      "cell_type": "code",
      "metadata": {
        "id": "sNaM77oERrXB",
        "colab": {
          "base_uri": "https://localhost:8080/"
        },
        "outputId": "a45097d2-aa65-4345-9012-1f880c209942"
      },
      "source": [
        "Y_test_adv_orig.shape"
      ],
      "execution_count": null,
      "outputs": [
        {
          "output_type": "execute_result",
          "data": {
            "text/plain": [
              "(1130,)"
            ]
          },
          "metadata": {},
          "execution_count": 22
        }
      ]
    },
    {
      "cell_type": "code",
      "metadata": {
        "id": "23_p88bjpheF",
        "colab": {
          "base_uri": "https://localhost:8080/",
          "height": 49
        },
        "outputId": "4ef284b9-d018-4f62-80b1-e6a4df7093a1"
      },
      "source": [
        "cv2_imshow(x_test[5])\n"
      ],
      "execution_count": null,
      "outputs": [
        {
          "output_type": "display_data",
          "data": {
            "image/png": "[encoded data removed]",
            "text/plain": [
              "<PIL.Image.Image image mode=RGB size=32x32 at 0x7FC4B6300E50>"
            ]
          },
          "metadata": {}
        }
      ]
    },
    {
      "cell_type": "code",
      "metadata": {
        "id": "oOWzjTwBSAA4",
        "colab": {
          "base_uri": "https://localhost:8080/",
          "height": 49
        },
        "outputId": "551ab6ce-da13-4097-f3b2-441a932ecc03"
      },
      "source": [
        "cv2_imshow(np.reshape(x_test_adv[4], (32,32,3)))"
      ],
      "execution_count": null,
      "outputs": [
        {
          "output_type": "display_data",
          "data": {
            "image/png": "[encoded data removed]",
            "text/plain": [
              "<PIL.Image.Image image mode=RGB size=32x32 at 0x7FBA995DA550>"
            ]
          },
          "metadata": {}
        }
      ]
    },
    {
      "cell_type": "code",
      "metadata": {
        "colab": {
          "base_uri": "https://localhost:8080/",
          "height": 49
        },
        "id": "Iy08yJ5N7vxI",
        "outputId": "aab98f64-d3a9-41de-89b5-84c85ba89f09"
      },
      "source": [
        "cv2_imshow(np.reshape(X_train_adv_orig[4], (32,32,3)))"
      ],
      "execution_count": null,
      "outputs": [
        {
          "output_type": "display_data",
          "data": {
            "image/png": "[encoded data removed]",
            "text/plain": [
              "<PIL.Image.Image image mode=RGB size=32x32 at 0x7FBA1A5C1590>"
            ]
          },
          "metadata": {}
        }
      ]
    },
    {
      "cell_type": "code",
      "metadata": {
        "id": "NmeG3Btk8J89",
        "colab": {
          "base_uri": "https://localhost:8080/",
          "height": 283
        },
        "outputId": "1504f7fe-ee07-49af-eb88-d5976771731d"
      },
      "source": [
        "\n",
        "plt.imshow(np.reshape(x_test_adv[4], (32,32,3)).astype(int))"
      ],
      "execution_count": null,
      "outputs": [
        {
          "output_type": "execute_result",
          "data": {
            "text/plain": [
              "<matplotlib.image.AxesImage at 0x7fba131f3a10>"
            ]
          },
          "metadata": {},
          "execution_count": 200
        },
        {
          "output_type": "display_data",
          "data": {
            "image/png": "[encoded data removed]",
            "text/plain": [
              "<Figure size 432x288 with 1 Axes>"
            ]
          },
          "metadata": {
            "needs_background": "light"
          }
        }
      ]
    },
    {
      "cell_type": "code",
      "metadata": {
        "id": "NVTZnQJu_TCQ",
        "colab": {
          "base_uri": "https://localhost:8080/"
        },
        "outputId": "1527b537-65f1-4212-ca9e-bc816201a708"
      },
      "source": [
        "\n",
        "\n",
        "\n",
        "Y_train_adv_orig.shape"
      ],
      "execution_count": null,
      "outputs": [
        {
          "output_type": "execute_result",
          "data": {
            "text/plain": [
              "(4000,)"
            ]
          },
          "metadata": {},
          "execution_count": 201
        }
      ]
    },
    {
      "cell_type": "code",
      "metadata": {
        "id": "jYlZc5xH02Ue"
      },
      "source": [
        "cv2_imshow(np.reshape(x_train_adv[4], (32,32,3)))"
      ],
      "execution_count": null,
      "outputs": []
    },
    {
      "cell_type": "code",
      "metadata": {
        "id": "M0cIIiPQDV77"
      },
      "source": [
        "x_train_adv.shape"
      ],
      "execution_count": null,
      "outputs": []
    },
    {
      "cell_type": "code",
      "metadata": {
        "id": "PrxvYhSI_dWs"
      },
      "source": [
        "Y_train_adv_orig"
      ],
      "execution_count": null,
      "outputs": []
    },
    {
      "cell_type": "code",
      "metadata": {
        "id": "IOJ8VP-JTQJz",
        "colab": {
          "base_uri": "https://localhost:8080/"
        },
        "outputId": "a52e9647-08f8-4e1e-99ac-5693351b9986"
      },
      "source": [
        "#X_train_adv_orig.shape[0]\n",
        "X_train_adv_orig.shape[0]"
      ],
      "execution_count": null,
      "outputs": [
        {
          "output_type": "execute_result",
          "data": {
            "text/plain": [
              "2530"
            ]
          },
          "metadata": {},
          "execution_count": 24
        }
      ]
    },
    {
      "cell_type": "code",
      "metadata": {
        "id": "YJk2dLFnKJDW"
      },
      "source": [
        "\n",
        "def ResNet1(input_shape1, n_classes1):\n",
        "    \"\"\"\n",
        "    Definition of ResNet\n",
        "    \n",
        "    References\n",
        "    ----------\n",
        "    https://github.com/keras-team/keras-applications/blob/master/keras_applications/resnet50.py\n",
        "    \"\"\"\n",
        "    img_input1 = layers.Input(shape=input_shape1)\n",
        "    \n",
        "    bn_axis = 3\n",
        "    \n",
        "    x = layers.ZeroPadding2D(padding=(3, 3), name='conv1_pad')(img_input1)\n",
        "    x = layers.Conv2D(64, (7, 7),\n",
        "                      strides=(2, 2),\n",
        "                      padding='valid',\n",
        "                      kernel_initializer='he_normal',\n",
        "                      name='conv1')(x)\n",
        "    x = layers.BatchNormalization(axis=bn_axis, name='bn_conv1')(x)\n",
        "    x = layers.Activation('relu')(x)\n",
        "    x = layers.ZeroPadding2D(padding=(1, 1), name='pool1_pad')(x)\n",
        "    x = layers.MaxPooling2D((3, 3), strides=(2, 2))(x)\n",
        "\n",
        "    x = conv_block(x, 3, [64, 64, 256], stage=2, block='a', strides=(1, 1))\n",
        "    x = identity_block(x, 3, [64, 64, 256], stage=2, block='b')\n",
        "    x = identity_block(x, 3, [64, 64, 256], stage=2, block='c')\n",
        "\n",
        "    x = conv_block(x, 3, [128, 128, 512], stage=3, block='a')\n",
        "    x = identity_block(x, 3, [128, 128, 512], stage=3, block='b')\n",
        "    x = identity_block(x, 3, [128, 128, 512], stage=3, block='c')\n",
        "    x = identity_block(x, 3, [128, 128, 512], stage=3, block='d')\n",
        "    \n",
        "    # the commented out blocks are what's needed to build out the\n",
        "    # full ResNet50 (a ResNet with 50 layers), we won't be needing\n",
        "    # the complexity here\n",
        "    x = conv_block(x, 3, [256, 256, 1024], stage=4, block='a')\n",
        "    x = identity_block(x, 3, [256, 256, 1024], stage=4, block='b')\n",
        "    x = identity_block(x, 3, [256, 256, 1024], stage=4, block='c')\n",
        "    # x = identity_block(x, 3, [256, 256, 1024], stage=4, block='d')\n",
        "    # x = identity_block(x, 3, [256, 256, 1024], stage=4, block='e')\n",
        "    # x = identity_block(x, 3, [256, 256, 1024], stage=4, block='f')\n",
        "\n",
        "    # x = conv_block(x, 3, [512, 512, 2048], stage=5, block='a')\n",
        "    # x = identity_block(x, 3, [512, 512, 2048], stage=5, block='b')\n",
        "    # x = identity_block(x, 3, [512, 512, 2048], stage=5, block='c')\n",
        "    \n",
        "    x = layers.GlobalAveragePooling2D(name='avg_pool')(x)\n",
        "    #img_output1 = layers.Dense(n_classes, activation='softmax', name='fc' + str(n_classes))(x)\n",
        "    #img_output1 = layers.Dense(n_classes1, activation='softmax', name='fc' + str(n_classes1))(x)\n",
        "             #='linear' , name = 'fc' + str(n_classes))(x); \n",
        "    img_output1 = layers.Dense(n_classes1, kernel_regularizer=tensorflow.keras.regularizers.l2(0.01),activation ='softmax' , name = 'fc' + str(n_classes1))(x); \n",
        "    #model = Model(inputs=img_input, outputs=img_output, name='resnet')\n",
        "    model1 = Model(inputs=img_input1, outputs=img_output1, name='resnet1')\n",
        "    return model1\n",
        "\n",
        "model1 = ResNet1(input_shape1, n_classes1)\n",
        "model1.compile(optimizer = 'adam', loss ='binary_crossentropy', metrics = ['accuracy'])\n",
        "#model.compile(optimizer='adam', loss='categorical_crossentropy', metrics=['accuracy'])\n",
        "#model1.summary()"
      ],
      "execution_count": null,
      "outputs": []
    },
    {
      "cell_type": "code",
      "metadata": {
        "id": "8B780KDnOQ7b"
      },
      "source": [
        ""
      ],
      "execution_count": null,
      "outputs": []
    },
    {
      "cell_type": "code",
      "metadata": {
        "id": "b_x86jEIOa0w"
      },
      "source": [
        "\n"
      ],
      "execution_count": null,
      "outputs": []
    },
    {
      "cell_type": "code",
      "metadata": {
        "id": "xQkA5pa6yYiQ",
        "colab": {
          "base_uri": "https://localhost:8080/"
        },
        "outputId": "1cc0fbf5-c73d-4e71-c977-12744a0cc424"
      },
      "source": [
        "Y_train_adv_orig.shape"
      ],
      "execution_count": null,
      "outputs": [
        {
          "output_type": "execute_result",
          "data": {
            "text/plain": [
              "(2530,)"
            ]
          },
          "metadata": {},
          "execution_count": 26
        }
      ]
    },
    {
      "cell_type": "code",
      "metadata": {
        "id": "DMzQXVN_yljg"
      },
      "source": [
        "len(Y_train_adv_orig)"
      ],
      "execution_count": null,
      "outputs": []
    },
    {
      "cell_type": "code",
      "metadata": {
        "id": "6tVZ_c4nGGHT"
      },
      "source": [
        ""
      ],
      "execution_count": null,
      "outputs": []
    },
    {
      "cell_type": "code",
      "metadata": {
        "id": "-kVlmL9TQOBg",
        "colab": {
          "base_uri": "https://localhost:8080/"
        },
        "outputId": "b62e8f35-d861-487d-9459-dc4b4581e4ff"
      },
      "source": [
        "history1 = model1.fit(X_train1_adv_orig, Y_train1_adv_orig, epochs=400, batch_size=32, validation_data=(X_test1_adv_orig, Y_test1_adv_orig))"
      ],
      "execution_count": null,
      "outputs": [
        {
          "output_type": "stream",
          "name": "stdout",
          "text": [
            "Epoch 1/400\n",
            "80/80 [==============================] - 9s 62ms/step - loss: 0.9155 - accuracy: 0.4937 - val_loss: 0.7283 - val_accuracy: 0.5000\n",
            "Epoch 2/400\n",
            "80/80 [==============================] - 4s 51ms/step - loss: 0.8190 - accuracy: 0.5138 - val_loss: 0.7728 - val_accuracy: 0.4894\n",
            "Epoch 3/400\n",
            "80/80 [==============================] - 4s 51ms/step - loss: 0.7822 - accuracy: 0.5229 - val_loss: 0.7301 - val_accuracy: 0.5000\n",
            "Epoch 4/400\n",
            "80/80 [==============================] - 4s 51ms/step - loss: 0.7521 - accuracy: 0.5285 - val_loss: 0.7519 - val_accuracy: 0.4965\n",
            "Epoch 5/400\n",
            "80/80 [==============================] - 4s 51ms/step - loss: 0.7418 - accuracy: 0.5482 - val_loss: 0.8054 - val_accuracy: 0.4912\n",
            "Epoch 6/400\n",
            "80/80 [==============================] - 4s 51ms/step - loss: 0.7312 - accuracy: 0.5854 - val_loss: 0.9771 - val_accuracy: 0.4947\n",
            "Epoch 7/400\n",
            "80/80 [==============================] - 4s 51ms/step - loss: 0.7050 - accuracy: 0.5953 - val_loss: 0.7669 - val_accuracy: 0.4965\n",
            "Epoch 8/400\n",
            "80/80 [==============================] - 4s 51ms/step - loss: 0.7227 - accuracy: 0.5814 - val_loss: 3.1727 - val_accuracy: 0.4929\n",
            "Epoch 9/400\n",
            "80/80 [==============================] - 4s 51ms/step - loss: 0.6962 - accuracy: 0.6059 - val_loss: 0.8968 - val_accuracy: 0.4735\n",
            "Epoch 10/400\n",
            "80/80 [==============================] - 4s 51ms/step - loss: 0.6891 - accuracy: 0.6285 - val_loss: 1.1019 - val_accuracy: 0.5177\n",
            "Epoch 11/400\n",
            "80/80 [==============================] - 4s 52ms/step - loss: 0.6571 - accuracy: 0.6466 - val_loss: 0.7543 - val_accuracy: 0.4912\n",
            "Epoch 12/400\n",
            "80/80 [==============================] - 4s 52ms/step - loss: 0.6558 - accuracy: 0.6538 - val_loss: 6.2333 - val_accuracy: 0.4894\n",
            "Epoch 13/400\n",
            "80/80 [==============================] - 4s 52ms/step - loss: 0.6491 - accuracy: 0.6605 - val_loss: 0.9006 - val_accuracy: 0.4858\n",
            "Epoch 14/400\n",
            "80/80 [==============================] - 4s 52ms/step - loss: 0.6464 - accuracy: 0.6597 - val_loss: 1.5221 - val_accuracy: 0.4876\n",
            "Epoch 15/400\n",
            "80/80 [==============================] - 4s 51ms/step - loss: 0.6497 - accuracy: 0.6506 - val_loss: 1.6295 - val_accuracy: 0.4717\n",
            "Epoch 16/400\n",
            "80/80 [==============================] - 4s 52ms/step - loss: 0.6101 - accuracy: 0.6751 - val_loss: 1.4800 - val_accuracy: 0.4876\n",
            "Epoch 17/400\n",
            "80/80 [==============================] - 4s 51ms/step - loss: 0.6073 - accuracy: 0.6644 - val_loss: 0.7526 - val_accuracy: 0.4982\n",
            "Epoch 18/400\n",
            "80/80 [==============================] - 4s 51ms/step - loss: 0.5488 - accuracy: 0.6885 - val_loss: 1.0719 - val_accuracy: 0.4717\n",
            "Epoch 19/400\n",
            "80/80 [==============================] - 4s 51ms/step - loss: 0.5480 - accuracy: 0.6901 - val_loss: 0.7416 - val_accuracy: 0.4805\n",
            "Epoch 20/400\n",
            "80/80 [==============================] - 4s 52ms/step - loss: 0.5409 - accuracy: 0.6909 - val_loss: 1.5125 - val_accuracy: 0.4876\n",
            "Epoch 21/400\n",
            "80/80 [==============================] - 4s 51ms/step - loss: 0.5368 - accuracy: 0.6854 - val_loss: 0.8465 - val_accuracy: 0.5071\n",
            "Epoch 22/400\n",
            "80/80 [==============================] - 4s 51ms/step - loss: 0.5557 - accuracy: 0.6870 - val_loss: 0.8811 - val_accuracy: 0.4929\n",
            "Epoch 23/400\n",
            "80/80 [==============================] - 4s 51ms/step - loss: 0.5148 - accuracy: 0.7004 - val_loss: 1.9464 - val_accuracy: 0.5177\n",
            "Epoch 24/400\n",
            "80/80 [==============================] - 4s 51ms/step - loss: 0.5242 - accuracy: 0.6964 - val_loss: 0.8273 - val_accuracy: 0.4982\n",
            "Epoch 25/400\n",
            "80/80 [==============================] - 4s 51ms/step - loss: 0.4755 - accuracy: 0.7111 - val_loss: 1.2632 - val_accuracy: 0.5000\n",
            "Epoch 26/400\n",
            "80/80 [==============================] - 4s 51ms/step - loss: 0.5238 - accuracy: 0.7063 - val_loss: 0.7851 - val_accuracy: 0.5018\n",
            "Epoch 27/400\n",
            "80/80 [==============================] - 4s 52ms/step - loss: 0.4528 - accuracy: 0.7300 - val_loss: 0.8844 - val_accuracy: 0.4947\n",
            "Epoch 28/400\n",
            "80/80 [==============================] - 4s 51ms/step - loss: 0.5708 - accuracy: 0.6739 - val_loss: 1.7484 - val_accuracy: 0.5053\n",
            "Epoch 29/400\n",
            "80/80 [==============================] - 4s 51ms/step - loss: 0.5002 - accuracy: 0.6972 - val_loss: 0.9671 - val_accuracy: 0.4929\n",
            "Epoch 30/400\n",
            "80/80 [==============================] - 4s 52ms/step - loss: 0.4544 - accuracy: 0.7300 - val_loss: 0.8822 - val_accuracy: 0.5159\n",
            "Epoch 31/400\n",
            "80/80 [==============================] - 4s 51ms/step - loss: 0.4495 - accuracy: 0.7138 - val_loss: 0.9393 - val_accuracy: 0.5159\n",
            "Epoch 32/400\n",
            "80/80 [==============================] - 4s 51ms/step - loss: 0.4513 - accuracy: 0.7221 - val_loss: 0.8060 - val_accuracy: 0.5035\n",
            "Epoch 33/400\n",
            "80/80 [==============================] - 4s 51ms/step - loss: 0.4465 - accuracy: 0.7257 - val_loss: 0.7739 - val_accuracy: 0.4894\n",
            "Epoch 34/400\n",
            "80/80 [==============================] - 4s 51ms/step - loss: 0.4404 - accuracy: 0.7233 - val_loss: 0.9232 - val_accuracy: 0.4929\n",
            "Epoch 35/400\n",
            "80/80 [==============================] - 4s 51ms/step - loss: 0.4462 - accuracy: 0.7209 - val_loss: 0.8916 - val_accuracy: 0.4805\n",
            "Epoch 36/400\n",
            "80/80 [==============================] - 4s 51ms/step - loss: 0.4888 - accuracy: 0.7138 - val_loss: 0.8060 - val_accuracy: 0.4982\n",
            "Epoch 37/400\n",
            "80/80 [==============================] - 4s 52ms/step - loss: 0.4520 - accuracy: 0.7162 - val_loss: 1.0199 - val_accuracy: 0.5071\n",
            "Epoch 38/400\n",
            "80/80 [==============================] - 4s 51ms/step - loss: 0.4121 - accuracy: 0.7277 - val_loss: 0.8365 - val_accuracy: 0.4947\n",
            "Epoch 39/400\n",
            "80/80 [==============================] - 4s 51ms/step - loss: 0.4173 - accuracy: 0.7296 - val_loss: 0.7752 - val_accuracy: 0.4752\n",
            "Epoch 40/400\n",
            "80/80 [==============================] - 4s 52ms/step - loss: 0.4124 - accuracy: 0.7340 - val_loss: 0.8214 - val_accuracy: 0.4876\n",
            "Epoch 41/400\n",
            "80/80 [==============================] - 4s 51ms/step - loss: 0.4501 - accuracy: 0.7257 - val_loss: 0.8855 - val_accuracy: 0.4894\n",
            "Epoch 42/400\n",
            "80/80 [==============================] - 4s 52ms/step - loss: 0.4190 - accuracy: 0.7308 - val_loss: 0.7872 - val_accuracy: 0.4929\n",
            "Epoch 43/400\n",
            "80/80 [==============================] - 4s 51ms/step - loss: 0.3944 - accuracy: 0.7356 - val_loss: 0.9849 - val_accuracy: 0.5000\n",
            "Epoch 44/400\n",
            "80/80 [==============================] - 4s 52ms/step - loss: 0.3929 - accuracy: 0.7419 - val_loss: 0.8165 - val_accuracy: 0.4894\n",
            "Epoch 45/400\n",
            "80/80 [==============================] - 4s 51ms/step - loss: 0.4109 - accuracy: 0.7261 - val_loss: 0.8767 - val_accuracy: 0.5088\n",
            "Epoch 46/400\n",
            "80/80 [==============================] - 4s 51ms/step - loss: 0.3954 - accuracy: 0.7336 - val_loss: 0.8884 - val_accuracy: 0.4947\n",
            "Epoch 47/400\n",
            "80/80 [==============================] - 4s 52ms/step - loss: 0.4367 - accuracy: 0.7154 - val_loss: 0.9191 - val_accuracy: 0.4929\n",
            "Epoch 48/400\n",
            "80/80 [==============================] - 4s 51ms/step - loss: 0.4110 - accuracy: 0.7221 - val_loss: 0.8818 - val_accuracy: 0.5000\n",
            "Epoch 49/400\n",
            "80/80 [==============================] - 4s 51ms/step - loss: 0.3763 - accuracy: 0.7372 - val_loss: 0.7594 - val_accuracy: 0.5071\n",
            "Epoch 50/400\n",
            "80/80 [==============================] - 4s 51ms/step - loss: 0.4317 - accuracy: 0.7281 - val_loss: 0.8713 - val_accuracy: 0.4912\n",
            "Epoch 51/400\n",
            "80/80 [==============================] - 4s 51ms/step - loss: 0.4276 - accuracy: 0.7253 - val_loss: 0.7965 - val_accuracy: 0.4982\n",
            "Epoch 52/400\n",
            "80/80 [==============================] - 4s 51ms/step - loss: 0.5998 - accuracy: 0.6542 - val_loss: 0.7472 - val_accuracy: 0.4965\n",
            "Epoch 53/400\n",
            "80/80 [==============================] - 4s 51ms/step - loss: 0.5369 - accuracy: 0.6842 - val_loss: 0.7482 - val_accuracy: 0.4929\n",
            "Epoch 54/400\n",
            "80/80 [==============================] - 4s 51ms/step - loss: 0.4951 - accuracy: 0.6937 - val_loss: 0.8826 - val_accuracy: 0.5053\n",
            "Epoch 55/400\n",
            "80/80 [==============================] - 4s 51ms/step - loss: 0.4323 - accuracy: 0.7206 - val_loss: 0.9236 - val_accuracy: 0.5035\n",
            "Epoch 56/400\n",
            "80/80 [==============================] - 4s 51ms/step - loss: 0.4747 - accuracy: 0.7115 - val_loss: 0.8561 - val_accuracy: 0.4858\n",
            "Epoch 57/400\n",
            "80/80 [==============================] - 4s 51ms/step - loss: 0.4084 - accuracy: 0.7304 - val_loss: 0.8807 - val_accuracy: 0.4894\n",
            "Epoch 58/400\n",
            "80/80 [==============================] - 4s 51ms/step - loss: 0.3915 - accuracy: 0.7435 - val_loss: 0.8727 - val_accuracy: 0.4646\n",
            "Epoch 59/400\n",
            "80/80 [==============================] - 4s 51ms/step - loss: 0.4879 - accuracy: 0.6972 - val_loss: 0.7441 - val_accuracy: 0.5000\n",
            "Epoch 60/400\n",
            "80/80 [==============================] - 4s 51ms/step - loss: 0.5041 - accuracy: 0.7051 - val_loss: 0.8180 - val_accuracy: 0.4770\n",
            "Epoch 61/400\n",
            "80/80 [==============================] - 4s 51ms/step - loss: 0.4080 - accuracy: 0.7312 - val_loss: 0.9931 - val_accuracy: 0.4858\n",
            "Epoch 62/400\n",
            "80/80 [==============================] - 4s 52ms/step - loss: 0.3878 - accuracy: 0.7249 - val_loss: 0.9587 - val_accuracy: 0.4894\n",
            "Epoch 63/400\n",
            "80/80 [==============================] - 4s 51ms/step - loss: 0.4145 - accuracy: 0.7241 - val_loss: 0.9981 - val_accuracy: 0.4858\n",
            "Epoch 64/400\n",
            "80/80 [==============================] - 4s 52ms/step - loss: 0.3829 - accuracy: 0.7352 - val_loss: 0.9748 - val_accuracy: 0.4841\n",
            "Epoch 65/400\n",
            "80/80 [==============================] - 4s 52ms/step - loss: 0.3764 - accuracy: 0.7340 - val_loss: 1.0067 - val_accuracy: 0.4929\n",
            "Epoch 66/400\n",
            "80/80 [==============================] - 4s 52ms/step - loss: 0.3690 - accuracy: 0.7490 - val_loss: 0.8600 - val_accuracy: 0.4805\n",
            "Epoch 67/400\n",
            "80/80 [==============================] - 4s 51ms/step - loss: 0.3678 - accuracy: 0.7498 - val_loss: 1.0562 - val_accuracy: 0.4788\n",
            "Epoch 68/400\n",
            "80/80 [==============================] - 4s 51ms/step - loss: 0.6596 - accuracy: 0.6221 - val_loss: 0.8799 - val_accuracy: 0.4788\n",
            "Epoch 69/400\n",
            "80/80 [==============================] - 4s 52ms/step - loss: 0.5964 - accuracy: 0.6644 - val_loss: 0.8398 - val_accuracy: 0.5195\n",
            "Epoch 70/400\n",
            "80/80 [==============================] - 4s 51ms/step - loss: 0.5552 - accuracy: 0.6822 - val_loss: 0.8532 - val_accuracy: 0.5071\n",
            "Epoch 71/400\n",
            "80/80 [==============================] - 4s 51ms/step - loss: 0.4754 - accuracy: 0.7111 - val_loss: 0.7864 - val_accuracy: 0.4912\n",
            "Epoch 72/400\n",
            "80/80 [==============================] - 4s 51ms/step - loss: 0.4182 - accuracy: 0.7300 - val_loss: 0.9087 - val_accuracy: 0.5035\n",
            "Epoch 73/400\n",
            "80/80 [==============================] - 4s 51ms/step - loss: 0.4122 - accuracy: 0.7273 - val_loss: 0.9785 - val_accuracy: 0.4823\n",
            "Epoch 74/400\n",
            "80/80 [==============================] - 4s 51ms/step - loss: 0.3990 - accuracy: 0.7285 - val_loss: 0.9807 - val_accuracy: 0.4717\n",
            "Epoch 75/400\n",
            "80/80 [==============================] - 4s 51ms/step - loss: 0.3894 - accuracy: 0.7478 - val_loss: 0.9117 - val_accuracy: 0.4805\n",
            "Epoch 76/400\n",
            "80/80 [==============================] - 4s 51ms/step - loss: 0.3725 - accuracy: 0.7360 - val_loss: 1.0297 - val_accuracy: 0.4947\n",
            "Epoch 77/400\n",
            "80/80 [==============================] - 4s 52ms/step - loss: 0.3999 - accuracy: 0.7364 - val_loss: 1.0595 - val_accuracy: 0.4947\n",
            "Epoch 78/400\n",
            "80/80 [==============================] - 4s 52ms/step - loss: 0.3982 - accuracy: 0.7391 - val_loss: 0.9366 - val_accuracy: 0.4912\n",
            "Epoch 79/400\n",
            "80/80 [==============================] - 4s 52ms/step - loss: 0.3770 - accuracy: 0.7375 - val_loss: 1.0138 - val_accuracy: 0.4982\n",
            "Epoch 80/400\n",
            "80/80 [==============================] - 4s 52ms/step - loss: 0.3709 - accuracy: 0.7427 - val_loss: 0.9763 - val_accuracy: 0.4947\n",
            "Epoch 81/400\n",
            "80/80 [==============================] - 4s 52ms/step - loss: 0.3786 - accuracy: 0.7447 - val_loss: 0.9945 - val_accuracy: 0.4664\n",
            "Epoch 82/400\n",
            "80/80 [==============================] - 4s 51ms/step - loss: 0.3705 - accuracy: 0.7470 - val_loss: 0.9144 - val_accuracy: 0.4965\n",
            "Epoch 83/400\n",
            "80/80 [==============================] - 4s 52ms/step - loss: 0.4118 - accuracy: 0.7352 - val_loss: 0.8538 - val_accuracy: 0.4947\n",
            "Epoch 84/400\n",
            "80/80 [==============================] - 4s 52ms/step - loss: 0.3872 - accuracy: 0.7320 - val_loss: 0.8814 - val_accuracy: 0.5035\n",
            "Epoch 85/400\n",
            "80/80 [==============================] - 4s 52ms/step - loss: 0.5984 - accuracy: 0.6542 - val_loss: 0.7206 - val_accuracy: 0.4929\n",
            "Epoch 86/400\n",
            "80/80 [==============================] - 4s 52ms/step - loss: 0.4963 - accuracy: 0.7154 - val_loss: 0.8264 - val_accuracy: 0.5088\n",
            "Epoch 87/400\n",
            "80/80 [==============================] - 4s 52ms/step - loss: 0.5076 - accuracy: 0.6996 - val_loss: 0.9082 - val_accuracy: 0.4823\n",
            "Epoch 88/400\n",
            "80/80 [==============================] - 4s 52ms/step - loss: 0.4317 - accuracy: 0.7257 - val_loss: 0.8116 - val_accuracy: 0.4965\n",
            "Epoch 89/400\n",
            "80/80 [==============================] - 4s 53ms/step - loss: 0.3983 - accuracy: 0.7431 - val_loss: 0.9049 - val_accuracy: 0.4929\n",
            "Epoch 90/400\n",
            "80/80 [==============================] - 4s 52ms/step - loss: 0.4061 - accuracy: 0.7344 - val_loss: 0.9711 - val_accuracy: 0.4858\n",
            "Epoch 91/400\n",
            "80/80 [==============================] - 4s 55ms/step - loss: 0.3883 - accuracy: 0.7395 - val_loss: 1.0687 - val_accuracy: 0.4770\n",
            "Epoch 92/400\n",
            "80/80 [==============================] - 4s 52ms/step - loss: 0.3830 - accuracy: 0.7431 - val_loss: 0.9228 - val_accuracy: 0.4876\n",
            "Epoch 93/400\n",
            "80/80 [==============================] - 4s 52ms/step - loss: 0.3961 - accuracy: 0.7411 - val_loss: 0.9441 - val_accuracy: 0.4947\n",
            "Epoch 94/400\n",
            "80/80 [==============================] - 4s 52ms/step - loss: 0.3952 - accuracy: 0.7308 - val_loss: 0.9232 - val_accuracy: 0.4805\n",
            "Epoch 95/400\n",
            "80/80 [==============================] - 4s 52ms/step - loss: 0.3777 - accuracy: 0.7427 - val_loss: 1.0169 - val_accuracy: 0.5018\n",
            "Epoch 96/400\n",
            "80/80 [==============================] - 4s 52ms/step - loss: 0.5521 - accuracy: 0.6759 - val_loss: 0.8667 - val_accuracy: 0.4965\n",
            "Epoch 97/400\n",
            "80/80 [==============================] - 4s 52ms/step - loss: 0.4497 - accuracy: 0.7277 - val_loss: 0.8314 - val_accuracy: 0.5035\n",
            "Epoch 98/400\n",
            "80/80 [==============================] - 4s 52ms/step - loss: 0.4066 - accuracy: 0.7360 - val_loss: 0.9290 - val_accuracy: 0.5000\n",
            "Epoch 99/400\n",
            "80/80 [==============================] - 4s 52ms/step - loss: 0.3953 - accuracy: 0.7372 - val_loss: 0.9244 - val_accuracy: 0.4929\n",
            "Epoch 100/400\n",
            "80/80 [==============================] - 4s 52ms/step - loss: 0.3793 - accuracy: 0.7399 - val_loss: 0.9641 - val_accuracy: 0.4912\n",
            "Epoch 101/400\n",
            "80/80 [==============================] - 4s 52ms/step - loss: 0.3716 - accuracy: 0.7470 - val_loss: 0.9466 - val_accuracy: 0.4982\n",
            "Epoch 102/400\n",
            "80/80 [==============================] - 4s 52ms/step - loss: 0.4399 - accuracy: 0.7308 - val_loss: 1.0796 - val_accuracy: 0.4912\n",
            "Epoch 103/400\n",
            "80/80 [==============================] - 4s 52ms/step - loss: 0.4026 - accuracy: 0.7419 - val_loss: 0.8726 - val_accuracy: 0.5035\n",
            "Epoch 104/400\n",
            "80/80 [==============================] - 4s 53ms/step - loss: 0.3825 - accuracy: 0.7423 - val_loss: 0.9477 - val_accuracy: 0.5159\n",
            "Epoch 105/400\n",
            "80/80 [==============================] - 4s 53ms/step - loss: 0.3716 - accuracy: 0.7419 - val_loss: 1.0075 - val_accuracy: 0.4929\n",
            "Epoch 106/400\n",
            "80/80 [==============================] - 4s 53ms/step - loss: 0.3679 - accuracy: 0.7415 - val_loss: 1.0604 - val_accuracy: 0.4929\n",
            "Epoch 107/400\n",
            "80/80 [==============================] - 4s 54ms/step - loss: 0.3630 - accuracy: 0.7419 - val_loss: 1.0394 - val_accuracy: 0.4858\n",
            "Epoch 108/400\n",
            "80/80 [==============================] - 4s 52ms/step - loss: 0.3710 - accuracy: 0.7494 - val_loss: 1.1162 - val_accuracy: 0.4965\n",
            "Epoch 109/400\n",
            "80/80 [==============================] - 4s 53ms/step - loss: 0.3735 - accuracy: 0.7344 - val_loss: 1.0522 - val_accuracy: 0.4947\n",
            "Epoch 110/400\n",
            "80/80 [==============================] - 4s 53ms/step - loss: 0.3669 - accuracy: 0.7360 - val_loss: 0.9992 - val_accuracy: 0.5018\n",
            "Epoch 111/400\n",
            "80/80 [==============================] - 4s 53ms/step - loss: 0.3685 - accuracy: 0.7470 - val_loss: 1.0731 - val_accuracy: 0.5035\n",
            "Epoch 112/400\n",
            "80/80 [==============================] - 4s 53ms/step - loss: 0.3638 - accuracy: 0.7458 - val_loss: 1.0477 - val_accuracy: 0.5018\n",
            "Epoch 113/400\n",
            "80/80 [==============================] - 4s 52ms/step - loss: 0.3620 - accuracy: 0.7451 - val_loss: 1.0621 - val_accuracy: 0.4894\n",
            "Epoch 114/400\n",
            "80/80 [==============================] - 4s 53ms/step - loss: 0.3586 - accuracy: 0.7403 - val_loss: 1.1073 - val_accuracy: 0.5035\n",
            "Epoch 115/400\n",
            "80/80 [==============================] - 4s 53ms/step - loss: 0.3583 - accuracy: 0.7435 - val_loss: 1.0724 - val_accuracy: 0.5124\n",
            "Epoch 116/400\n",
            "80/80 [==============================] - 4s 53ms/step - loss: 0.3591 - accuracy: 0.7415 - val_loss: 1.0155 - val_accuracy: 0.5000\n",
            "Epoch 117/400\n",
            "80/80 [==============================] - 4s 53ms/step - loss: 0.3564 - accuracy: 0.7257 - val_loss: 1.0590 - val_accuracy: 0.4982\n",
            "Epoch 118/400\n",
            "80/80 [==============================] - 4s 53ms/step - loss: 0.3616 - accuracy: 0.7431 - val_loss: 1.1141 - val_accuracy: 0.4947\n",
            "Epoch 119/400\n",
            "80/80 [==============================] - 4s 52ms/step - loss: 0.4165 - accuracy: 0.7372 - val_loss: 0.8922 - val_accuracy: 0.4823\n",
            "Epoch 120/400\n",
            "80/80 [==============================] - 4s 53ms/step - loss: 0.3918 - accuracy: 0.7336 - val_loss: 1.0757 - val_accuracy: 0.4982\n",
            "Epoch 121/400\n",
            "80/80 [==============================] - 4s 53ms/step - loss: 0.3784 - accuracy: 0.7296 - val_loss: 1.1853 - val_accuracy: 0.4876\n",
            "Epoch 122/400\n",
            "80/80 [==============================] - 4s 53ms/step - loss: 0.3847 - accuracy: 0.7439 - val_loss: 1.0041 - val_accuracy: 0.4841\n",
            "Epoch 123/400\n",
            "80/80 [==============================] - 4s 53ms/step - loss: 0.3738 - accuracy: 0.7455 - val_loss: 0.9547 - val_accuracy: 0.4912\n",
            "Epoch 124/400\n",
            "80/80 [==============================] - 4s 53ms/step - loss: 0.3612 - accuracy: 0.7427 - val_loss: 0.9449 - val_accuracy: 0.5053\n",
            "Epoch 125/400\n",
            "80/80 [==============================] - 4s 53ms/step - loss: 0.3719 - accuracy: 0.7462 - val_loss: 0.8898 - val_accuracy: 0.4965\n",
            "Epoch 126/400\n",
            "80/80 [==============================] - 4s 53ms/step - loss: 0.3822 - accuracy: 0.7411 - val_loss: 0.9691 - val_accuracy: 0.4912\n",
            "Epoch 127/400\n",
            "80/80 [==============================] - 4s 53ms/step - loss: 0.3690 - accuracy: 0.7423 - val_loss: 0.9829 - val_accuracy: 0.4770\n",
            "Epoch 128/400\n",
            "80/80 [==============================] - 4s 53ms/step - loss: 0.3899 - accuracy: 0.7336 - val_loss: 1.0491 - val_accuracy: 0.4858\n",
            "Epoch 129/400\n",
            "80/80 [==============================] - 4s 55ms/step - loss: 0.5042 - accuracy: 0.7123 - val_loss: 0.8835 - val_accuracy: 0.4965\n",
            "Epoch 130/400\n",
            "80/80 [==============================] - 4s 53ms/step - loss: 0.4340 - accuracy: 0.7261 - val_loss: 0.9983 - val_accuracy: 0.4522\n",
            "Epoch 131/400\n",
            "80/80 [==============================] - 4s 53ms/step - loss: 0.3941 - accuracy: 0.7344 - val_loss: 1.1757 - val_accuracy: 0.4982\n",
            "Epoch 132/400\n",
            "80/80 [==============================] - 4s 53ms/step - loss: 0.3792 - accuracy: 0.7387 - val_loss: 1.2621 - val_accuracy: 0.4947\n",
            "Epoch 133/400\n",
            "80/80 [==============================] - 4s 52ms/step - loss: 0.4096 - accuracy: 0.7399 - val_loss: 1.1018 - val_accuracy: 0.4929\n",
            "Epoch 134/400\n",
            "80/80 [==============================] - 4s 53ms/step - loss: 0.3885 - accuracy: 0.7379 - val_loss: 1.0032 - val_accuracy: 0.5000\n",
            "Epoch 135/400\n",
            "80/80 [==============================] - 4s 53ms/step - loss: 0.3630 - accuracy: 0.7383 - val_loss: 1.0636 - val_accuracy: 0.4947\n",
            "Epoch 136/400\n",
            "80/80 [==============================] - 4s 53ms/step - loss: 0.3624 - accuracy: 0.7344 - val_loss: 1.0223 - val_accuracy: 0.5000\n",
            "Epoch 137/400\n",
            "80/80 [==============================] - 4s 53ms/step - loss: 0.3565 - accuracy: 0.7423 - val_loss: 1.0509 - val_accuracy: 0.4982\n",
            "Epoch 138/400\n",
            "80/80 [==============================] - 4s 54ms/step - loss: 0.3613 - accuracy: 0.7439 - val_loss: 1.0572 - val_accuracy: 0.5053\n",
            "Epoch 139/400\n",
            "80/80 [==============================] - 4s 53ms/step - loss: 0.5005 - accuracy: 0.7233 - val_loss: 1.2190 - val_accuracy: 0.4894\n",
            "Epoch 140/400\n",
            "80/80 [==============================] - 4s 52ms/step - loss: 0.4300 - accuracy: 0.7340 - val_loss: 0.8866 - val_accuracy: 0.5071\n",
            "Epoch 141/400\n",
            "80/80 [==============================] - 4s 53ms/step - loss: 0.3817 - accuracy: 0.7458 - val_loss: 0.9904 - val_accuracy: 0.4912\n",
            "Epoch 142/400\n",
            "80/80 [==============================] - 4s 52ms/step - loss: 0.3687 - accuracy: 0.7375 - val_loss: 1.0886 - val_accuracy: 0.5035\n",
            "Epoch 143/400\n",
            "80/80 [==============================] - 4s 52ms/step - loss: 0.3656 - accuracy: 0.7395 - val_loss: 0.9893 - val_accuracy: 0.4982\n",
            "Epoch 144/400\n",
            "80/80 [==============================] - 4s 53ms/step - loss: 0.3621 - accuracy: 0.7470 - val_loss: 1.0841 - val_accuracy: 0.5018\n",
            "Epoch 145/400\n",
            "80/80 [==============================] - 4s 53ms/step - loss: 0.3599 - accuracy: 0.7518 - val_loss: 1.0722 - val_accuracy: 0.5053\n",
            "Epoch 146/400\n",
            "80/80 [==============================] - 4s 52ms/step - loss: 0.3600 - accuracy: 0.7462 - val_loss: 1.0491 - val_accuracy: 0.5088\n",
            "Epoch 147/400\n",
            "80/80 [==============================] - 4s 54ms/step - loss: 0.3644 - accuracy: 0.7435 - val_loss: 0.9275 - val_accuracy: 0.5071\n",
            "Epoch 148/400\n",
            "80/80 [==============================] - 4s 53ms/step - loss: 0.5687 - accuracy: 0.6783 - val_loss: 0.8672 - val_accuracy: 0.5000\n",
            "Epoch 149/400\n",
            "80/80 [==============================] - 4s 53ms/step - loss: 0.4854 - accuracy: 0.7178 - val_loss: 0.9391 - val_accuracy: 0.4982\n",
            "Epoch 150/400\n",
            "80/80 [==============================] - 4s 53ms/step - loss: 0.4143 - accuracy: 0.7336 - val_loss: 0.9102 - val_accuracy: 0.4929\n",
            "Epoch 151/400\n",
            "80/80 [==============================] - 4s 53ms/step - loss: 0.3805 - accuracy: 0.7336 - val_loss: 1.0328 - val_accuracy: 0.5000\n",
            "Epoch 152/400\n",
            "80/80 [==============================] - 4s 53ms/step - loss: 0.3760 - accuracy: 0.7427 - val_loss: 0.9687 - val_accuracy: 0.5124\n",
            "Epoch 153/400\n",
            "80/80 [==============================] - 4s 53ms/step - loss: 0.5158 - accuracy: 0.6968 - val_loss: 0.9612 - val_accuracy: 0.4947\n",
            "Epoch 154/400\n",
            "80/80 [==============================] - 4s 52ms/step - loss: 0.4488 - accuracy: 0.7202 - val_loss: 0.8622 - val_accuracy: 0.4965\n",
            "Epoch 155/400\n",
            "80/80 [==============================] - 4s 53ms/step - loss: 0.4099 - accuracy: 0.7356 - val_loss: 1.0466 - val_accuracy: 0.4947\n",
            "Epoch 156/400\n",
            "80/80 [==============================] - 4s 53ms/step - loss: 0.3750 - accuracy: 0.7391 - val_loss: 1.0821 - val_accuracy: 0.5071\n",
            "Epoch 157/400\n",
            "80/80 [==============================] - 4s 52ms/step - loss: 0.3691 - accuracy: 0.7403 - val_loss: 0.9918 - val_accuracy: 0.5035\n",
            "Epoch 158/400\n",
            "80/80 [==============================] - 4s 53ms/step - loss: 0.4076 - accuracy: 0.7364 - val_loss: 1.0617 - val_accuracy: 0.5230\n",
            "Epoch 159/400\n",
            "80/80 [==============================] - 4s 53ms/step - loss: 0.3797 - accuracy: 0.7320 - val_loss: 0.9723 - val_accuracy: 0.5000\n",
            "Epoch 160/400\n",
            "80/80 [==============================] - 4s 53ms/step - loss: 0.3682 - accuracy: 0.7474 - val_loss: 0.9365 - val_accuracy: 0.4876\n",
            "Epoch 161/400\n",
            "80/80 [==============================] - 4s 52ms/step - loss: 0.3647 - accuracy: 0.7458 - val_loss: 1.0125 - val_accuracy: 0.4929\n",
            "Epoch 162/400\n",
            "80/80 [==============================] - 4s 53ms/step - loss: 0.3625 - accuracy: 0.7462 - val_loss: 0.9982 - val_accuracy: 0.4982\n",
            "Epoch 163/400\n",
            "80/80 [==============================] - 4s 53ms/step - loss: 0.3589 - accuracy: 0.7447 - val_loss: 0.9527 - val_accuracy: 0.4912\n",
            "Epoch 164/400\n",
            "80/80 [==============================] - 4s 52ms/step - loss: 0.3582 - accuracy: 0.7498 - val_loss: 0.9895 - val_accuracy: 0.4965\n",
            "Epoch 165/400\n",
            "80/80 [==============================] - 4s 52ms/step - loss: 0.4075 - accuracy: 0.7265 - val_loss: 0.9552 - val_accuracy: 0.5035\n",
            "Epoch 166/400\n",
            "80/80 [==============================] - 4s 52ms/step - loss: 0.4532 - accuracy: 0.7257 - val_loss: 0.9310 - val_accuracy: 0.4965\n",
            "Epoch 167/400\n",
            "80/80 [==============================] - 4s 52ms/step - loss: 0.3875 - accuracy: 0.7431 - val_loss: 1.0319 - val_accuracy: 0.5053\n",
            "Epoch 168/400\n",
            "80/80 [==============================] - 4s 52ms/step - loss: 0.3707 - accuracy: 0.7423 - val_loss: 1.0256 - val_accuracy: 0.4947\n",
            "Epoch 169/400\n",
            "80/80 [==============================] - 4s 52ms/step - loss: 0.3647 - accuracy: 0.7415 - val_loss: 1.0653 - val_accuracy: 0.4965\n",
            "Epoch 170/400\n",
            "80/80 [==============================] - 4s 52ms/step - loss: 0.3646 - accuracy: 0.7443 - val_loss: 1.0138 - val_accuracy: 0.4929\n",
            "Epoch 171/400\n",
            "80/80 [==============================] - 4s 53ms/step - loss: 0.3625 - accuracy: 0.7451 - val_loss: 1.0300 - val_accuracy: 0.5035\n",
            "Epoch 172/400\n",
            "80/80 [==============================] - 4s 52ms/step - loss: 0.3595 - accuracy: 0.7356 - val_loss: 1.1041 - val_accuracy: 0.4858\n",
            "Epoch 173/400\n",
            "80/80 [==============================] - 4s 52ms/step - loss: 0.3600 - accuracy: 0.7443 - val_loss: 0.9912 - val_accuracy: 0.4858\n",
            "Epoch 174/400\n",
            "80/80 [==============================] - 4s 52ms/step - loss: 0.3625 - accuracy: 0.7451 - val_loss: 1.0396 - val_accuracy: 0.5018\n",
            "Epoch 175/400\n",
            "80/80 [==============================] - 4s 52ms/step - loss: 0.3599 - accuracy: 0.7451 - val_loss: 1.0252 - val_accuracy: 0.4982\n",
            "Epoch 176/400\n",
            "80/80 [==============================] - 4s 52ms/step - loss: 0.3607 - accuracy: 0.7557 - val_loss: 1.0271 - val_accuracy: 0.4894\n",
            "Epoch 177/400\n",
            "80/80 [==============================] - 4s 52ms/step - loss: 0.3593 - accuracy: 0.7379 - val_loss: 1.0384 - val_accuracy: 0.4894\n",
            "Epoch 178/400\n",
            "80/80 [==============================] - 4s 52ms/step - loss: 0.3588 - accuracy: 0.7443 - val_loss: 1.0320 - val_accuracy: 0.4929\n",
            "Epoch 179/400\n",
            "80/80 [==============================] - 4s 52ms/step - loss: 0.3620 - accuracy: 0.7443 - val_loss: 0.9592 - val_accuracy: 0.4876\n",
            "Epoch 180/400\n",
            "80/80 [==============================] - 4s 52ms/step - loss: 0.3583 - accuracy: 0.7494 - val_loss: 1.0241 - val_accuracy: 0.4929\n",
            "Epoch 181/400\n",
            "80/80 [==============================] - 4s 55ms/step - loss: 0.3613 - accuracy: 0.7344 - val_loss: 1.0370 - val_accuracy: 0.4947\n",
            "Epoch 182/400\n",
            "80/80 [==============================] - 4s 52ms/step - loss: 0.3587 - accuracy: 0.7478 - val_loss: 1.0745 - val_accuracy: 0.4965\n",
            "Epoch 183/400\n",
            "80/80 [==============================] - 4s 52ms/step - loss: 0.5485 - accuracy: 0.7079 - val_loss: 0.7986 - val_accuracy: 0.5124\n",
            "Epoch 184/400\n",
            "80/80 [==============================] - 4s 53ms/step - loss: 0.4482 - accuracy: 0.7249 - val_loss: 0.8639 - val_accuracy: 0.5212\n",
            "Epoch 185/400\n",
            "80/80 [==============================] - 4s 52ms/step - loss: 0.4000 - accuracy: 0.7336 - val_loss: 0.8807 - val_accuracy: 0.5000\n",
            "Epoch 186/400\n",
            "80/80 [==============================] - 4s 52ms/step - loss: 0.4652 - accuracy: 0.7257 - val_loss: 0.8696 - val_accuracy: 0.5177\n",
            "Epoch 187/400\n",
            "80/80 [==============================] - 4s 52ms/step - loss: 0.3916 - accuracy: 0.7447 - val_loss: 1.0203 - val_accuracy: 0.5088\n",
            "Epoch 188/400\n",
            "80/80 [==============================] - 4s 52ms/step - loss: 0.3750 - accuracy: 0.7423 - val_loss: 1.0205 - val_accuracy: 0.5053\n",
            "Epoch 189/400\n",
            "80/80 [==============================] - 4s 52ms/step - loss: 0.3822 - accuracy: 0.7352 - val_loss: 1.1193 - val_accuracy: 0.4965\n",
            "Epoch 190/400\n",
            "80/80 [==============================] - 4s 53ms/step - loss: 0.3698 - accuracy: 0.7447 - val_loss: 1.0879 - val_accuracy: 0.4982\n",
            "Epoch 191/400\n",
            "80/80 [==============================] - 4s 53ms/step - loss: 0.3610 - accuracy: 0.7439 - val_loss: 1.1201 - val_accuracy: 0.5071\n",
            "Epoch 192/400\n",
            "80/80 [==============================] - 4s 53ms/step - loss: 0.3574 - accuracy: 0.7470 - val_loss: 1.1376 - val_accuracy: 0.5142\n",
            "Epoch 193/400\n",
            "80/80 [==============================] - 4s 52ms/step - loss: 0.3571 - accuracy: 0.7447 - val_loss: 1.0829 - val_accuracy: 0.5018\n",
            "Epoch 194/400\n",
            "80/80 [==============================] - 4s 53ms/step - loss: 0.3563 - accuracy: 0.7502 - val_loss: 1.1887 - val_accuracy: 0.5177\n",
            "Epoch 195/400\n",
            "80/80 [==============================] - 4s 52ms/step - loss: 0.4591 - accuracy: 0.7209 - val_loss: 1.0050 - val_accuracy: 0.4912\n",
            "Epoch 196/400\n",
            "80/80 [==============================] - 4s 53ms/step - loss: 0.3905 - accuracy: 0.7383 - val_loss: 1.0320 - val_accuracy: 0.5053\n",
            "Epoch 197/400\n",
            "80/80 [==============================] - 4s 52ms/step - loss: 0.3778 - accuracy: 0.7344 - val_loss: 1.1666 - val_accuracy: 0.4894\n",
            "Epoch 198/400\n",
            "80/80 [==============================] - 4s 56ms/step - loss: 0.4197 - accuracy: 0.7304 - val_loss: 1.0920 - val_accuracy: 0.5000\n",
            "Epoch 199/400\n",
            "80/80 [==============================] - 4s 53ms/step - loss: 0.4061 - accuracy: 0.7364 - val_loss: 1.2992 - val_accuracy: 0.4947\n",
            "Epoch 200/400\n",
            "80/80 [==============================] - 4s 52ms/step - loss: 0.3797 - accuracy: 0.7439 - val_loss: 1.1852 - val_accuracy: 0.5000\n",
            "Epoch 201/400\n",
            "80/80 [==============================] - 4s 52ms/step - loss: 0.3727 - accuracy: 0.7387 - val_loss: 1.1259 - val_accuracy: 0.4965\n",
            "Epoch 202/400\n",
            "80/80 [==============================] - 4s 53ms/step - loss: 0.3696 - accuracy: 0.7466 - val_loss: 1.0814 - val_accuracy: 0.4912\n",
            "Epoch 203/400\n",
            "80/80 [==============================] - 4s 52ms/step - loss: 0.4212 - accuracy: 0.7312 - val_loss: 1.0843 - val_accuracy: 0.4646\n",
            "Epoch 204/400\n",
            "80/80 [==============================] - 4s 53ms/step - loss: 0.3875 - accuracy: 0.7375 - val_loss: 1.0067 - val_accuracy: 0.4858\n",
            "Epoch 205/400\n",
            "80/80 [==============================] - 4s 52ms/step - loss: 0.4239 - accuracy: 0.7281 - val_loss: 1.0362 - val_accuracy: 0.4947\n",
            "Epoch 206/400\n",
            "80/80 [==============================] - 4s 53ms/step - loss: 0.3763 - accuracy: 0.7289 - val_loss: 1.1775 - val_accuracy: 0.4912\n",
            "Epoch 207/400\n",
            "80/80 [==============================] - 4s 54ms/step - loss: 0.3725 - accuracy: 0.7383 - val_loss: 1.1029 - val_accuracy: 0.4876\n",
            "Epoch 208/400\n",
            "80/80 [==============================] - 4s 53ms/step - loss: 0.4214 - accuracy: 0.7368 - val_loss: 1.0746 - val_accuracy: 0.4965\n",
            "Epoch 209/400\n",
            "80/80 [==============================] - 4s 53ms/step - loss: 0.3796 - accuracy: 0.7419 - val_loss: 1.0863 - val_accuracy: 0.5018\n",
            "Epoch 210/400\n",
            "80/80 [==============================] - 4s 53ms/step - loss: 0.3671 - accuracy: 0.7455 - val_loss: 1.1398 - val_accuracy: 0.4947\n",
            "Epoch 211/400\n",
            "80/80 [==============================] - 4s 54ms/step - loss: 0.3622 - accuracy: 0.7447 - val_loss: 1.1563 - val_accuracy: 0.4894\n",
            "Epoch 212/400\n",
            "80/80 [==============================] - 4s 54ms/step - loss: 0.3739 - accuracy: 0.7455 - val_loss: 1.1215 - val_accuracy: 0.4823\n",
            "Epoch 213/400\n",
            "80/80 [==============================] - 4s 55ms/step - loss: 0.3776 - accuracy: 0.7455 - val_loss: 1.1894 - val_accuracy: 0.4823\n",
            "Epoch 214/400\n",
            "80/80 [==============================] - 4s 53ms/step - loss: 0.3660 - accuracy: 0.7451 - val_loss: 1.1076 - val_accuracy: 0.4912\n",
            "Epoch 215/400\n",
            "80/80 [==============================] - 4s 54ms/step - loss: 0.3615 - accuracy: 0.7427 - val_loss: 1.1462 - val_accuracy: 0.4858\n",
            "Epoch 216/400\n",
            "80/80 [==============================] - 4s 55ms/step - loss: 0.3660 - accuracy: 0.7415 - val_loss: 1.1585 - val_accuracy: 0.4982\n",
            "Epoch 217/400\n",
            "80/80 [==============================] - 4s 54ms/step - loss: 0.3644 - accuracy: 0.7447 - val_loss: 1.2162 - val_accuracy: 0.4841\n",
            "Epoch 218/400\n",
            "80/80 [==============================] - 4s 54ms/step - loss: 0.3610 - accuracy: 0.7435 - val_loss: 1.1638 - val_accuracy: 0.4965\n",
            "Epoch 219/400\n",
            "80/80 [==============================] - 4s 54ms/step - loss: 0.3576 - accuracy: 0.7427 - val_loss: 1.2323 - val_accuracy: 0.5035\n",
            "Epoch 220/400\n",
            "80/80 [==============================] - 5s 57ms/step - loss: 0.3590 - accuracy: 0.7474 - val_loss: 1.1521 - val_accuracy: 0.5018\n",
            "Epoch 221/400\n",
            "80/80 [==============================] - 4s 55ms/step - loss: 0.3573 - accuracy: 0.7383 - val_loss: 1.2373 - val_accuracy: 0.5035\n",
            "Epoch 222/400\n",
            "80/80 [==============================] - 4s 56ms/step - loss: 0.3570 - accuracy: 0.7435 - val_loss: 1.2388 - val_accuracy: 0.4982\n",
            "Epoch 223/400\n",
            "80/80 [==============================] - 4s 54ms/step - loss: 0.3577 - accuracy: 0.7379 - val_loss: 1.2252 - val_accuracy: 0.4858\n",
            "Epoch 224/400\n",
            "80/80 [==============================] - 4s 55ms/step - loss: 0.3614 - accuracy: 0.7419 - val_loss: 1.1654 - val_accuracy: 0.4823\n",
            "Epoch 225/400\n",
            "80/80 [==============================] - 4s 55ms/step - loss: 0.3793 - accuracy: 0.7447 - val_loss: 1.3807 - val_accuracy: 0.4858\n",
            "Epoch 226/400\n",
            "80/80 [==============================] - 4s 54ms/step - loss: 0.3707 - accuracy: 0.7383 - val_loss: 1.1550 - val_accuracy: 0.4965\n",
            "Epoch 227/400\n",
            "80/80 [==============================] - 4s 53ms/step - loss: 0.3678 - accuracy: 0.7474 - val_loss: 1.3067 - val_accuracy: 0.5000\n",
            "Epoch 228/400\n",
            "80/80 [==============================] - 4s 53ms/step - loss: 0.3620 - accuracy: 0.7514 - val_loss: 1.1629 - val_accuracy: 0.5018\n",
            "Epoch 229/400\n",
            "80/80 [==============================] - 4s 52ms/step - loss: 0.3624 - accuracy: 0.7332 - val_loss: 1.1294 - val_accuracy: 0.5000\n",
            "Epoch 230/400\n",
            "80/80 [==============================] - 4s 53ms/step - loss: 0.3564 - accuracy: 0.7478 - val_loss: 1.2170 - val_accuracy: 0.5018\n",
            "Epoch 231/400\n",
            "80/80 [==============================] - 4s 53ms/step - loss: 0.3568 - accuracy: 0.7447 - val_loss: 1.2160 - val_accuracy: 0.4858\n",
            "Epoch 232/400\n",
            "80/80 [==============================] - 4s 54ms/step - loss: 0.4043 - accuracy: 0.7277 - val_loss: 0.9786 - val_accuracy: 0.5142\n",
            "Epoch 233/400\n",
            "80/80 [==============================] - 4s 54ms/step - loss: 0.3819 - accuracy: 0.7265 - val_loss: 1.0596 - val_accuracy: 0.5018\n",
            "Epoch 234/400\n",
            "80/80 [==============================] - 4s 54ms/step - loss: 0.4347 - accuracy: 0.7249 - val_loss: 1.0636 - val_accuracy: 0.4912\n",
            "Epoch 235/400\n",
            "80/80 [==============================] - 4s 54ms/step - loss: 0.4097 - accuracy: 0.7336 - val_loss: 0.8295 - val_accuracy: 0.4982\n",
            "Epoch 236/400\n",
            "80/80 [==============================] - 4s 53ms/step - loss: 0.4092 - accuracy: 0.7198 - val_loss: 1.0935 - val_accuracy: 0.5177\n",
            "Epoch 237/400\n",
            "80/80 [==============================] - 4s 53ms/step - loss: 0.3973 - accuracy: 0.7375 - val_loss: 0.9451 - val_accuracy: 0.5177\n",
            "Epoch 238/400\n",
            "80/80 [==============================] - 4s 54ms/step - loss: 0.3716 - accuracy: 0.7443 - val_loss: 0.9956 - val_accuracy: 0.5142\n",
            "Epoch 239/400\n",
            "80/80 [==============================] - 4s 53ms/step - loss: 0.3742 - accuracy: 0.7403 - val_loss: 1.1221 - val_accuracy: 0.5053\n",
            "Epoch 240/400\n",
            "80/80 [==============================] - 4s 53ms/step - loss: 0.4397 - accuracy: 0.7233 - val_loss: 0.9873 - val_accuracy: 0.4841\n",
            "Epoch 241/400\n",
            "80/80 [==============================] - 4s 53ms/step - loss: 0.3797 - accuracy: 0.7427 - val_loss: 0.9576 - val_accuracy: 0.5000\n",
            "Epoch 242/400\n",
            "80/80 [==============================] - 4s 54ms/step - loss: 0.4272 - accuracy: 0.7387 - val_loss: 1.0093 - val_accuracy: 0.4876\n",
            "Epoch 243/400\n",
            "80/80 [==============================] - 4s 53ms/step - loss: 0.3883 - accuracy: 0.7403 - val_loss: 0.9997 - val_accuracy: 0.4982\n",
            "Epoch 244/400\n",
            "80/80 [==============================] - 4s 53ms/step - loss: 0.3796 - accuracy: 0.7415 - val_loss: 1.0499 - val_accuracy: 0.4947\n",
            "Epoch 245/400\n",
            "80/80 [==============================] - 4s 53ms/step - loss: 0.3680 - accuracy: 0.7419 - val_loss: 1.0000 - val_accuracy: 0.4929\n",
            "Epoch 246/400\n",
            "80/80 [==============================] - 4s 52ms/step - loss: 0.3640 - accuracy: 0.7451 - val_loss: 1.0896 - val_accuracy: 0.4947\n",
            "Epoch 247/400\n",
            "80/80 [==============================] - 4s 53ms/step - loss: 0.3708 - accuracy: 0.7316 - val_loss: 0.9945 - val_accuracy: 0.4894\n",
            "Epoch 248/400\n",
            "80/80 [==============================] - 4s 54ms/step - loss: 0.3611 - accuracy: 0.7466 - val_loss: 1.0927 - val_accuracy: 0.5212\n",
            "Epoch 249/400\n",
            "80/80 [==============================] - 4s 54ms/step - loss: 0.3585 - accuracy: 0.7443 - val_loss: 1.0895 - val_accuracy: 0.5212\n",
            "Epoch 250/400\n",
            "80/80 [==============================] - 4s 55ms/step - loss: 0.3664 - accuracy: 0.7439 - val_loss: 0.9779 - val_accuracy: 0.5265\n",
            "Epoch 251/400\n",
            "80/80 [==============================] - 4s 53ms/step - loss: 0.3624 - accuracy: 0.7352 - val_loss: 1.0041 - val_accuracy: 0.5035\n",
            "Epoch 252/400\n",
            "80/80 [==============================] - 4s 53ms/step - loss: 0.3567 - accuracy: 0.7375 - val_loss: 1.0743 - val_accuracy: 0.5071\n",
            "Epoch 253/400\n",
            "80/80 [==============================] - 4s 53ms/step - loss: 0.3565 - accuracy: 0.7395 - val_loss: 1.0834 - val_accuracy: 0.4876\n",
            "Epoch 254/400\n",
            "80/80 [==============================] - 4s 55ms/step - loss: 0.3571 - accuracy: 0.7455 - val_loss: 1.1276 - val_accuracy: 0.4912\n",
            "Epoch 255/400\n",
            "80/80 [==============================] - 4s 53ms/step - loss: 0.3812 - accuracy: 0.7435 - val_loss: 1.0295 - val_accuracy: 0.4929\n",
            "Epoch 256/400\n",
            "80/80 [==============================] - 4s 54ms/step - loss: 0.3622 - accuracy: 0.7474 - val_loss: 1.0511 - val_accuracy: 0.4858\n",
            "Epoch 257/400\n",
            "80/80 [==============================] - 4s 53ms/step - loss: 0.3590 - accuracy: 0.7474 - val_loss: 1.1043 - val_accuracy: 0.4876\n",
            "Epoch 258/400\n",
            "80/80 [==============================] - 4s 54ms/step - loss: 0.3676 - accuracy: 0.7411 - val_loss: 1.1220 - val_accuracy: 0.4788\n",
            "Epoch 259/400\n",
            "80/80 [==============================] - 4s 55ms/step - loss: 0.3612 - accuracy: 0.7431 - val_loss: 1.2950 - val_accuracy: 0.4912\n",
            "Epoch 260/400\n",
            "80/80 [==============================] - 4s 55ms/step - loss: 0.3667 - accuracy: 0.7427 - val_loss: 0.9747 - val_accuracy: 0.4717\n",
            "Epoch 261/400\n",
            "80/80 [==============================] - 4s 55ms/step - loss: 0.3582 - accuracy: 0.7340 - val_loss: 1.1438 - val_accuracy: 0.4947\n",
            "Epoch 262/400\n",
            "80/80 [==============================] - 4s 56ms/step - loss: 0.3567 - accuracy: 0.7387 - val_loss: 1.1219 - val_accuracy: 0.4947\n",
            "Epoch 263/400\n",
            "80/80 [==============================] - 4s 56ms/step - loss: 0.4166 - accuracy: 0.7344 - val_loss: 0.9461 - val_accuracy: 0.4947\n",
            "Epoch 264/400\n",
            "80/80 [==============================] - 4s 56ms/step - loss: 0.3771 - accuracy: 0.7423 - val_loss: 1.1356 - val_accuracy: 0.5018\n",
            "Epoch 265/400\n",
            "80/80 [==============================] - 4s 55ms/step - loss: 0.3622 - accuracy: 0.7423 - val_loss: 1.0623 - val_accuracy: 0.4929\n",
            "Epoch 266/400\n",
            "80/80 [==============================] - 4s 54ms/step - loss: 0.3606 - accuracy: 0.7466 - val_loss: 1.1287 - val_accuracy: 0.5000\n",
            "Epoch 267/400\n",
            "80/80 [==============================] - 4s 54ms/step - loss: 0.3577 - accuracy: 0.7455 - val_loss: 1.1524 - val_accuracy: 0.5018\n",
            "Epoch 268/400\n",
            "80/80 [==============================] - 4s 55ms/step - loss: 0.3772 - accuracy: 0.7431 - val_loss: 1.1218 - val_accuracy: 0.4770\n",
            "Epoch 269/400\n",
            "80/80 [==============================] - 4s 55ms/step - loss: 0.3662 - accuracy: 0.7427 - val_loss: 1.0407 - val_accuracy: 0.4982\n",
            "Epoch 270/400\n",
            "80/80 [==============================] - 4s 55ms/step - loss: 0.3639 - accuracy: 0.7462 - val_loss: 1.1705 - val_accuracy: 0.5035\n",
            "Epoch 271/400\n",
            "80/80 [==============================] - 4s 55ms/step - loss: 0.3642 - accuracy: 0.7431 - val_loss: 1.0734 - val_accuracy: 0.4947\n",
            "Epoch 272/400\n",
            "80/80 [==============================] - 4s 55ms/step - loss: 0.3783 - accuracy: 0.7443 - val_loss: 1.0652 - val_accuracy: 0.4770\n",
            "Epoch 273/400\n",
            "80/80 [==============================] - 4s 56ms/step - loss: 0.3637 - accuracy: 0.7455 - val_loss: 1.1367 - val_accuracy: 0.4841\n",
            "Epoch 274/400\n",
            "80/80 [==============================] - 4s 55ms/step - loss: 0.3720 - accuracy: 0.7447 - val_loss: 1.0917 - val_accuracy: 0.5071\n",
            "Epoch 275/400\n",
            "80/80 [==============================] - 4s 55ms/step - loss: 0.3669 - accuracy: 0.7447 - val_loss: 1.0348 - val_accuracy: 0.5000\n",
            "Epoch 276/400\n",
            "80/80 [==============================] - 4s 55ms/step - loss: 0.3597 - accuracy: 0.7411 - val_loss: 1.0885 - val_accuracy: 0.4841\n",
            "Epoch 277/400\n",
            "80/80 [==============================] - 4s 55ms/step - loss: 0.3613 - accuracy: 0.7462 - val_loss: 0.9736 - val_accuracy: 0.4823\n",
            "Epoch 278/400\n",
            "80/80 [==============================] - 4s 55ms/step - loss: 0.3837 - accuracy: 0.7423 - val_loss: 1.1251 - val_accuracy: 0.4841\n",
            "Epoch 279/400\n",
            "80/80 [==============================] - 4s 56ms/step - loss: 0.3700 - accuracy: 0.7304 - val_loss: 1.1751 - val_accuracy: 0.4876\n",
            "Epoch 280/400\n",
            "80/80 [==============================] - 4s 54ms/step - loss: 0.3623 - accuracy: 0.7451 - val_loss: 1.0431 - val_accuracy: 0.4876\n",
            "Epoch 281/400\n",
            "80/80 [==============================] - 4s 56ms/step - loss: 0.3723 - accuracy: 0.7498 - val_loss: 1.0483 - val_accuracy: 0.4717\n",
            "Epoch 282/400\n",
            "80/80 [==============================] - 4s 56ms/step - loss: 0.3813 - accuracy: 0.7411 - val_loss: 1.0107 - val_accuracy: 0.5088\n",
            "Epoch 283/400\n",
            "80/80 [==============================] - 4s 55ms/step - loss: 0.3606 - accuracy: 0.7312 - val_loss: 1.0348 - val_accuracy: 0.5053\n",
            "Epoch 284/400\n",
            "80/80 [==============================] - 4s 55ms/step - loss: 0.3643 - accuracy: 0.7332 - val_loss: 0.9178 - val_accuracy: 0.5000\n",
            "Epoch 285/400\n",
            "80/80 [==============================] - 4s 55ms/step - loss: 0.3583 - accuracy: 0.7439 - val_loss: 1.1193 - val_accuracy: 0.5035\n",
            "Epoch 286/400\n",
            "80/80 [==============================] - 4s 55ms/step - loss: 0.3703 - accuracy: 0.7458 - val_loss: 1.1587 - val_accuracy: 0.5035\n",
            "Epoch 287/400\n",
            "80/80 [==============================] - 4s 56ms/step - loss: 0.3841 - accuracy: 0.7447 - val_loss: 0.8753 - val_accuracy: 0.4965\n",
            "Epoch 288/400\n",
            "80/80 [==============================] - 4s 55ms/step - loss: 0.3734 - accuracy: 0.7360 - val_loss: 0.9811 - val_accuracy: 0.4752\n",
            "Epoch 289/400\n",
            "80/80 [==============================] - 4s 55ms/step - loss: 0.3582 - accuracy: 0.7375 - val_loss: 1.0596 - val_accuracy: 0.4929\n",
            "Epoch 290/400\n",
            "80/80 [==============================] - 4s 55ms/step - loss: 0.3746 - accuracy: 0.7411 - val_loss: 0.9604 - val_accuracy: 0.4894\n",
            "Epoch 291/400\n",
            "80/80 [==============================] - 4s 55ms/step - loss: 0.3623 - accuracy: 0.7411 - val_loss: 1.1127 - val_accuracy: 0.4894\n",
            "Epoch 292/400\n",
            "80/80 [==============================] - 4s 54ms/step - loss: 0.3667 - accuracy: 0.7423 - val_loss: 1.0838 - val_accuracy: 0.5053\n",
            "Epoch 293/400\n",
            "80/80 [==============================] - 4s 55ms/step - loss: 0.3854 - accuracy: 0.7455 - val_loss: 1.0209 - val_accuracy: 0.5106\n",
            "Epoch 294/400\n",
            "80/80 [==============================] - 4s 55ms/step - loss: 0.3649 - accuracy: 0.7482 - val_loss: 1.1068 - val_accuracy: 0.4788\n",
            "Epoch 295/400\n",
            "80/80 [==============================] - 4s 55ms/step - loss: 0.3636 - accuracy: 0.7372 - val_loss: 0.9664 - val_accuracy: 0.5071\n",
            "Epoch 296/400\n",
            "80/80 [==============================] - 4s 55ms/step - loss: 0.3632 - accuracy: 0.7399 - val_loss: 1.0229 - val_accuracy: 0.4982\n",
            "Epoch 297/400\n",
            "80/80 [==============================] - 4s 56ms/step - loss: 0.3555 - accuracy: 0.7423 - val_loss: 1.1200 - val_accuracy: 0.4947\n",
            "Epoch 298/400\n",
            "80/80 [==============================] - 4s 56ms/step - loss: 0.3545 - accuracy: 0.7498 - val_loss: 1.1322 - val_accuracy: 0.4982\n",
            "Epoch 299/400\n",
            "80/80 [==============================] - 4s 55ms/step - loss: 0.3555 - accuracy: 0.7415 - val_loss: 1.1357 - val_accuracy: 0.5106\n",
            "Epoch 300/400\n",
            "80/80 [==============================] - 4s 56ms/step - loss: 0.3555 - accuracy: 0.7308 - val_loss: 1.1413 - val_accuracy: 0.5035\n",
            "Epoch 301/400\n",
            "80/80 [==============================] - 5s 56ms/step - loss: 0.3587 - accuracy: 0.7502 - val_loss: 1.0902 - val_accuracy: 0.4912\n",
            "Epoch 302/400\n",
            "80/80 [==============================] - 5s 57ms/step - loss: 0.3660 - accuracy: 0.7462 - val_loss: 1.1049 - val_accuracy: 0.5035\n",
            "Epoch 303/400\n",
            "80/80 [==============================] - 4s 56ms/step - loss: 0.3588 - accuracy: 0.7415 - val_loss: 1.2859 - val_accuracy: 0.5124\n",
            "Epoch 304/400\n",
            "80/80 [==============================] - 4s 55ms/step - loss: 0.3649 - accuracy: 0.7470 - val_loss: 0.9521 - val_accuracy: 0.5018\n",
            "Epoch 305/400\n",
            "80/80 [==============================] - 4s 56ms/step - loss: 0.3640 - accuracy: 0.7336 - val_loss: 0.9682 - val_accuracy: 0.5142\n",
            "Epoch 306/400\n",
            "80/80 [==============================] - 5s 57ms/step - loss: 0.3642 - accuracy: 0.7447 - val_loss: 1.0043 - val_accuracy: 0.4841\n",
            "Epoch 307/400\n",
            "80/80 [==============================] - 4s 55ms/step - loss: 0.3671 - accuracy: 0.7470 - val_loss: 1.0964 - val_accuracy: 0.4876\n",
            "Epoch 308/400\n",
            "80/80 [==============================] - 4s 56ms/step - loss: 0.3849 - accuracy: 0.7340 - val_loss: 1.0714 - val_accuracy: 0.4894\n",
            "Epoch 309/400\n",
            "80/80 [==============================] - 4s 56ms/step - loss: 0.3760 - accuracy: 0.7427 - val_loss: 1.0879 - val_accuracy: 0.4805\n",
            "Epoch 310/400\n",
            "80/80 [==============================] - 4s 55ms/step - loss: 0.3847 - accuracy: 0.7455 - val_loss: 0.9976 - val_accuracy: 0.5018\n",
            "Epoch 311/400\n",
            "80/80 [==============================] - 4s 55ms/step - loss: 0.3824 - accuracy: 0.7372 - val_loss: 0.9716 - val_accuracy: 0.4858\n",
            "Epoch 312/400\n",
            "80/80 [==============================] - 4s 55ms/step - loss: 0.3618 - accuracy: 0.7372 - val_loss: 0.9645 - val_accuracy: 0.5000\n",
            "Epoch 313/400\n",
            "80/80 [==============================] - 4s 55ms/step - loss: 0.3593 - accuracy: 0.7466 - val_loss: 0.9873 - val_accuracy: 0.5071\n",
            "Epoch 314/400\n",
            "80/80 [==============================] - 4s 55ms/step - loss: 0.3553 - accuracy: 0.7431 - val_loss: 1.0717 - val_accuracy: 0.5071\n",
            "Epoch 315/400\n",
            "80/80 [==============================] - 4s 56ms/step - loss: 0.3607 - accuracy: 0.7427 - val_loss: 0.9852 - val_accuracy: 0.4805\n",
            "Epoch 316/400\n",
            "80/80 [==============================] - 4s 56ms/step - loss: 0.3771 - accuracy: 0.7451 - val_loss: 1.0460 - val_accuracy: 0.4912\n",
            "Epoch 317/400\n",
            "80/80 [==============================] - 5s 56ms/step - loss: 0.3674 - accuracy: 0.7375 - val_loss: 1.0626 - val_accuracy: 0.4912\n",
            "Epoch 318/400\n",
            "80/80 [==============================] - 4s 56ms/step - loss: 0.3558 - accuracy: 0.7451 - val_loss: 1.1783 - val_accuracy: 0.4929\n",
            "Epoch 319/400\n",
            "80/80 [==============================] - 4s 56ms/step - loss: 0.3563 - accuracy: 0.7403 - val_loss: 1.0730 - val_accuracy: 0.4894\n",
            "Epoch 320/400\n",
            "80/80 [==============================] - 4s 56ms/step - loss: 0.3670 - accuracy: 0.7411 - val_loss: 1.1026 - val_accuracy: 0.4735\n",
            "Epoch 321/400\n",
            "80/80 [==============================] - 4s 55ms/step - loss: 0.3928 - accuracy: 0.7447 - val_loss: 1.0263 - val_accuracy: 0.5053\n",
            "Epoch 322/400\n",
            "80/80 [==============================] - 4s 56ms/step - loss: 0.3842 - accuracy: 0.7439 - val_loss: 0.9357 - val_accuracy: 0.4788\n",
            "Epoch 323/400\n",
            "80/80 [==============================] - 4s 56ms/step - loss: 0.4031 - accuracy: 0.7364 - val_loss: 0.8761 - val_accuracy: 0.4947\n",
            "Epoch 324/400\n",
            "80/80 [==============================] - 5s 59ms/step - loss: 0.3969 - accuracy: 0.7281 - val_loss: 1.0793 - val_accuracy: 0.4929\n",
            "Epoch 325/400\n",
            "80/80 [==============================] - 4s 55ms/step - loss: 0.3718 - accuracy: 0.7391 - val_loss: 1.0439 - val_accuracy: 0.4965\n",
            "Epoch 326/400\n",
            "80/80 [==============================] - 4s 55ms/step - loss: 0.3688 - accuracy: 0.7403 - val_loss: 1.1680 - val_accuracy: 0.4929\n",
            "Epoch 327/400\n",
            "80/80 [==============================] - 5s 57ms/step - loss: 0.3625 - accuracy: 0.7482 - val_loss: 1.1734 - val_accuracy: 0.5071\n",
            "Epoch 328/400\n",
            "80/80 [==============================] - 4s 55ms/step - loss: 0.3755 - accuracy: 0.7466 - val_loss: 1.1010 - val_accuracy: 0.4965\n",
            "Epoch 329/400\n",
            "80/80 [==============================] - 4s 56ms/step - loss: 0.3705 - accuracy: 0.7403 - val_loss: 0.9837 - val_accuracy: 0.4876\n",
            "Epoch 330/400\n",
            "80/80 [==============================] - 5s 57ms/step - loss: 0.4638 - accuracy: 0.7067 - val_loss: 0.9888 - val_accuracy: 0.4805\n",
            "Epoch 331/400\n",
            "80/80 [==============================] - 5s 57ms/step - loss: 0.3975 - accuracy: 0.7348 - val_loss: 0.9076 - val_accuracy: 0.5035\n",
            "Epoch 332/400\n",
            "80/80 [==============================] - 4s 56ms/step - loss: 0.3826 - accuracy: 0.7375 - val_loss: 1.1482 - val_accuracy: 0.5000\n",
            "Epoch 333/400\n",
            "80/80 [==============================] - 4s 55ms/step - loss: 0.3686 - accuracy: 0.7261 - val_loss: 1.1345 - val_accuracy: 0.4929\n",
            "Epoch 334/400\n",
            "80/80 [==============================] - 4s 55ms/step - loss: 0.3662 - accuracy: 0.7451 - val_loss: 1.1302 - val_accuracy: 0.4947\n",
            "Epoch 335/400\n",
            "80/80 [==============================] - 4s 56ms/step - loss: 0.3608 - accuracy: 0.7458 - val_loss: 1.1596 - val_accuracy: 0.4982\n",
            "Epoch 336/400\n",
            "80/80 [==============================] - 4s 55ms/step - loss: 0.3665 - accuracy: 0.7447 - val_loss: 1.1554 - val_accuracy: 0.4858\n",
            "Epoch 337/400\n",
            "80/80 [==============================] - 4s 56ms/step - loss: 0.3726 - accuracy: 0.7549 - val_loss: 1.1273 - val_accuracy: 0.5018\n",
            "Epoch 338/400\n",
            "80/80 [==============================] - 4s 56ms/step - loss: 0.3633 - accuracy: 0.7482 - val_loss: 1.0602 - val_accuracy: 0.4982\n",
            "Epoch 339/400\n",
            "80/80 [==============================] - 4s 56ms/step - loss: 0.3621 - accuracy: 0.7470 - val_loss: 1.1238 - val_accuracy: 0.4965\n",
            "Epoch 340/400\n",
            "80/80 [==============================] - 4s 55ms/step - loss: 0.3606 - accuracy: 0.7439 - val_loss: 1.0975 - val_accuracy: 0.4929\n",
            "Epoch 341/400\n",
            "80/80 [==============================] - 4s 56ms/step - loss: 0.3618 - accuracy: 0.7470 - val_loss: 1.0470 - val_accuracy: 0.4982\n",
            "Epoch 342/400\n",
            "80/80 [==============================] - 4s 56ms/step - loss: 0.3603 - accuracy: 0.7451 - val_loss: 1.0776 - val_accuracy: 0.5018\n",
            "Epoch 343/400\n",
            "80/80 [==============================] - 5s 57ms/step - loss: 0.3581 - accuracy: 0.7411 - val_loss: 1.0741 - val_accuracy: 0.4770\n",
            "Epoch 344/400\n",
            "80/80 [==============================] - 4s 56ms/step - loss: 0.3601 - accuracy: 0.7387 - val_loss: 1.0679 - val_accuracy: 0.4876\n",
            "Epoch 345/400\n",
            "80/80 [==============================] - 5s 57ms/step - loss: 0.3590 - accuracy: 0.7423 - val_loss: 1.1598 - val_accuracy: 0.4929\n",
            "Epoch 346/400\n",
            "80/80 [==============================] - 5s 57ms/step - loss: 0.3620 - accuracy: 0.7451 - val_loss: 1.1592 - val_accuracy: 0.4735\n",
            "Epoch 347/400\n",
            "80/80 [==============================] - 5s 57ms/step - loss: 0.3603 - accuracy: 0.7486 - val_loss: 1.0490 - val_accuracy: 0.4788\n",
            "Epoch 348/400\n",
            "80/80 [==============================] - 5s 57ms/step - loss: 0.4285 - accuracy: 0.7123 - val_loss: 1.1456 - val_accuracy: 0.4823\n",
            "Epoch 349/400\n",
            "80/80 [==============================] - 4s 56ms/step - loss: 0.3918 - accuracy: 0.7372 - val_loss: 0.9770 - val_accuracy: 0.4805\n",
            "Epoch 350/400\n",
            "80/80 [==============================] - 5s 58ms/step - loss: 0.3673 - accuracy: 0.7387 - val_loss: 1.0999 - val_accuracy: 0.4947\n",
            "Epoch 351/400\n",
            "80/80 [==============================] - 4s 56ms/step - loss: 0.3918 - accuracy: 0.7356 - val_loss: 1.0785 - val_accuracy: 0.4841\n",
            "Epoch 352/400\n",
            "80/80 [==============================] - 4s 56ms/step - loss: 0.3785 - accuracy: 0.7336 - val_loss: 1.0697 - val_accuracy: 0.4841\n",
            "Epoch 353/400\n",
            "80/80 [==============================] - 4s 56ms/step - loss: 0.3632 - accuracy: 0.7462 - val_loss: 1.1716 - val_accuracy: 0.4805\n",
            "Epoch 354/400\n",
            "80/80 [==============================] - 4s 56ms/step - loss: 0.3594 - accuracy: 0.7455 - val_loss: 1.1892 - val_accuracy: 0.4752\n",
            "Epoch 355/400\n",
            "80/80 [==============================] - 5s 58ms/step - loss: 0.3584 - accuracy: 0.7451 - val_loss: 1.0850 - val_accuracy: 0.4752\n",
            "Epoch 356/400\n",
            "80/80 [==============================] - 5s 57ms/step - loss: 0.3820 - accuracy: 0.7455 - val_loss: 1.0622 - val_accuracy: 0.4894\n",
            "Epoch 357/400\n",
            "80/80 [==============================] - 5s 58ms/step - loss: 0.3613 - accuracy: 0.7415 - val_loss: 1.1828 - val_accuracy: 0.4823\n",
            "Epoch 358/400\n",
            "80/80 [==============================] - 5s 57ms/step - loss: 0.3617 - accuracy: 0.7451 - val_loss: 1.0401 - val_accuracy: 0.4805\n",
            "Epoch 359/400\n",
            "80/80 [==============================] - 4s 56ms/step - loss: 0.3710 - accuracy: 0.7455 - val_loss: 0.9432 - val_accuracy: 0.4770\n",
            "Epoch 360/400\n",
            "80/80 [==============================] - 4s 56ms/step - loss: 0.3676 - accuracy: 0.7435 - val_loss: 1.1591 - val_accuracy: 0.4982\n",
            "Epoch 361/400\n",
            "80/80 [==============================] - 4s 56ms/step - loss: 0.3628 - accuracy: 0.7451 - val_loss: 1.1170 - val_accuracy: 0.4858\n",
            "Epoch 362/400\n",
            "80/80 [==============================] - 4s 56ms/step - loss: 0.3592 - accuracy: 0.7431 - val_loss: 1.3365 - val_accuracy: 0.4805\n",
            "Epoch 363/400\n",
            "80/80 [==============================] - 4s 56ms/step - loss: 0.3637 - accuracy: 0.7462 - val_loss: 1.1185 - val_accuracy: 0.4823\n",
            "Epoch 364/400\n",
            "80/80 [==============================] - 4s 56ms/step - loss: 0.3602 - accuracy: 0.7439 - val_loss: 1.1741 - val_accuracy: 0.4876\n",
            "Epoch 365/400\n",
            "80/80 [==============================] - 5s 57ms/step - loss: 0.3560 - accuracy: 0.7316 - val_loss: 1.1483 - val_accuracy: 0.5018\n",
            "Epoch 366/400\n",
            "80/80 [==============================] - 4s 56ms/step - loss: 0.3555 - accuracy: 0.7379 - val_loss: 1.1631 - val_accuracy: 0.4929\n",
            "Epoch 367/400\n",
            "80/80 [==============================] - 4s 56ms/step - loss: 0.3666 - accuracy: 0.7265 - val_loss: 1.1010 - val_accuracy: 0.4965\n",
            "Epoch 368/400\n",
            "80/80 [==============================] - 4s 56ms/step - loss: 0.3740 - accuracy: 0.7443 - val_loss: 1.2000 - val_accuracy: 0.4735\n",
            "Epoch 369/400\n",
            "80/80 [==============================] - 4s 56ms/step - loss: 0.3694 - accuracy: 0.7419 - val_loss: 1.2054 - val_accuracy: 0.4770\n",
            "Epoch 370/400\n",
            "80/80 [==============================] - 5s 57ms/step - loss: 0.3582 - accuracy: 0.7332 - val_loss: 1.1220 - val_accuracy: 0.4912\n",
            "Epoch 371/400\n",
            "80/80 [==============================] - 4s 56ms/step - loss: 0.3570 - accuracy: 0.7431 - val_loss: 1.1357 - val_accuracy: 0.4929\n",
            "Epoch 372/400\n",
            "80/80 [==============================] - 5s 57ms/step - loss: 0.3573 - accuracy: 0.7506 - val_loss: 1.1765 - val_accuracy: 0.4717\n",
            "Epoch 373/400\n",
            "80/80 [==============================] - 5s 57ms/step - loss: 0.3583 - accuracy: 0.7490 - val_loss: 1.2938 - val_accuracy: 0.4664\n",
            "Epoch 374/400\n",
            "80/80 [==============================] - 5s 58ms/step - loss: 0.3565 - accuracy: 0.7324 - val_loss: 1.2041 - val_accuracy: 0.4841\n",
            "Epoch 375/400\n",
            "80/80 [==============================] - 4s 56ms/step - loss: 0.4464 - accuracy: 0.7166 - val_loss: 1.1382 - val_accuracy: 0.4823\n",
            "Epoch 376/400\n",
            "80/80 [==============================] - 4s 56ms/step - loss: 0.4075 - accuracy: 0.7423 - val_loss: 1.0246 - val_accuracy: 0.4823\n",
            "Epoch 377/400\n",
            "80/80 [==============================] - 5s 56ms/step - loss: 0.3755 - accuracy: 0.7423 - val_loss: 1.0337 - val_accuracy: 0.4805\n",
            "Epoch 378/400\n",
            "80/80 [==============================] - 5s 56ms/step - loss: 0.3673 - accuracy: 0.7470 - val_loss: 1.1817 - val_accuracy: 0.4858\n",
            "Epoch 379/400\n",
            "80/80 [==============================] - 5s 56ms/step - loss: 0.3675 - accuracy: 0.7423 - val_loss: 1.1452 - val_accuracy: 0.4752\n",
            "Epoch 380/400\n",
            "80/80 [==============================] - 5s 57ms/step - loss: 0.3647 - accuracy: 0.7447 - val_loss: 1.2037 - val_accuracy: 0.4876\n",
            "Epoch 381/400\n",
            "80/80 [==============================] - 5s 57ms/step - loss: 0.3908 - accuracy: 0.7447 - val_loss: 0.9880 - val_accuracy: 0.4894\n",
            "Epoch 382/400\n",
            "80/80 [==============================] - 4s 56ms/step - loss: 0.3692 - accuracy: 0.7407 - val_loss: 1.0960 - val_accuracy: 0.4752\n",
            "Epoch 383/400\n",
            "80/80 [==============================] - 5s 57ms/step - loss: 0.3648 - accuracy: 0.7391 - val_loss: 1.1433 - val_accuracy: 0.4770\n",
            "Epoch 384/400\n",
            "80/80 [==============================] - 4s 56ms/step - loss: 0.3589 - accuracy: 0.7419 - val_loss: 1.1953 - val_accuracy: 0.4752\n",
            "Epoch 385/400\n",
            "80/80 [==============================] - 4s 56ms/step - loss: 0.3710 - accuracy: 0.7506 - val_loss: 1.0876 - val_accuracy: 0.4699\n",
            "Epoch 386/400\n",
            "80/80 [==============================] - 4s 56ms/step - loss: 0.3682 - accuracy: 0.7466 - val_loss: 1.1607 - val_accuracy: 0.4858\n",
            "Epoch 387/400\n",
            "80/80 [==============================] - 4s 56ms/step - loss: 0.3693 - accuracy: 0.7415 - val_loss: 1.2126 - val_accuracy: 0.4770\n",
            "Epoch 388/400\n",
            "80/80 [==============================] - 5s 57ms/step - loss: 0.3615 - accuracy: 0.7368 - val_loss: 1.1615 - val_accuracy: 0.4664\n",
            "Epoch 389/400\n",
            "80/80 [==============================] - 4s 56ms/step - loss: 0.3555 - accuracy: 0.7447 - val_loss: 1.1885 - val_accuracy: 0.4770\n",
            "Epoch 390/400\n",
            "80/80 [==============================] - 5s 58ms/step - loss: 0.3574 - accuracy: 0.7478 - val_loss: 1.2479 - val_accuracy: 0.4752\n",
            "Epoch 391/400\n",
            "80/80 [==============================] - 4s 56ms/step - loss: 0.3588 - accuracy: 0.7431 - val_loss: 1.1216 - val_accuracy: 0.4752\n",
            "Epoch 392/400\n",
            "80/80 [==============================] - 4s 56ms/step - loss: 0.3556 - accuracy: 0.7502 - val_loss: 1.0719 - val_accuracy: 0.4752\n",
            "Epoch 393/400\n",
            "80/80 [==============================] - 4s 55ms/step - loss: 0.3718 - accuracy: 0.7458 - val_loss: 1.2198 - val_accuracy: 0.4823\n",
            "Epoch 394/400\n",
            "80/80 [==============================] - 5s 57ms/step - loss: 0.3825 - accuracy: 0.7300 - val_loss: 1.0392 - val_accuracy: 0.4664\n",
            "Epoch 395/400\n",
            "80/80 [==============================] - 4s 56ms/step - loss: 0.3598 - accuracy: 0.7368 - val_loss: 1.1671 - val_accuracy: 0.4699\n",
            "Epoch 396/400\n",
            "80/80 [==============================] - 4s 56ms/step - loss: 0.3578 - accuracy: 0.7447 - val_loss: 1.2955 - val_accuracy: 0.4858\n",
            "Epoch 397/400\n",
            "80/80 [==============================] - 4s 56ms/step - loss: 0.3564 - accuracy: 0.7332 - val_loss: 1.2036 - val_accuracy: 0.4876\n",
            "Epoch 398/400\n",
            "80/80 [==============================] - 5s 57ms/step - loss: 0.3565 - accuracy: 0.7447 - val_loss: 1.2095 - val_accuracy: 0.4823\n",
            "Epoch 399/400\n",
            "80/80 [==============================] - 5s 57ms/step - loss: 0.3613 - accuracy: 0.7423 - val_loss: 1.1484 - val_accuracy: 0.4894\n",
            "Epoch 400/400\n",
            "80/80 [==============================] - 4s 56ms/step - loss: 0.3595 - accuracy: 0.7455 - val_loss: 1.1687 - val_accuracy: 0.4823\n"
          ]
        }
      ]
    },
    {
      "cell_type": "code",
      "metadata": {
        "id": "ZvmS3weaPxt4"
      },
      "source": [
        ""
      ],
      "execution_count": null,
      "outputs": []
    },
    {
      "cell_type": "code",
      "metadata": {
        "id": "JCMITrArxsTL",
        "colab": {
          "base_uri": "https://localhost:8080/"
        },
        "outputId": "06b5ce2e-f7b2-4201-a410-c3f5b88a9e29"
      },
      "source": [
        "Y_test_adv_orig"
      ],
      "execution_count": null,
      "outputs": [
        {
          "output_type": "execute_result",
          "data": {
            "text/plain": [
              "array([0, 1, 0, ..., 1, 0, 1])"
            ]
          },
          "metadata": {},
          "execution_count": 204
        }
      ]
    },
    {
      "cell_type": "code",
      "metadata": {
        "id": "oY5NceVkwZCc",
        "colab": {
          "base_uri": "https://localhost:8080/"
        },
        "outputId": "5fb0d9d8-1397-4786-b6b7-25090ff671b3"
      },
      "source": [
        "\n",
        "loss, accuracy = model1.evaluate(X_test1_adv_orig, Y_test1_adv_orig)\n",
        "print('Loss = ' + str(loss))\n",
        "print('Test Accuracy = ' + str(accuracy))"
      ],
      "execution_count": null,
      "outputs": [
        {
          "output_type": "stream",
          "name": "stdout",
          "text": [
            "36/36 [==============================] - 1s 19ms/step - loss: 0.9752 - accuracy: 0.4717\n",
            "Loss = 0.975220799446106\n",
            "Test Accuracy = 0.4716814160346985\n"
          ]
        }
      ]
    }
  ]
}